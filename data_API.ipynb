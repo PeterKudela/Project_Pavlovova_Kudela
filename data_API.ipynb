{
 "cells": [
  {
   "cell_type": "markdown",
   "metadata": {},
   "source": [
    "## ??? \n",
    "\n",
    "\n",
    " API přes vytváření url - OK ? \n",
    " \n",
    " stáhne data až po zadání země -up to date, faster\n",
    "\n",
    "class country: \n",
    "\n",
    "atributy: kod, tripadvisor kod, název, \n",
    "\n",
    "metody: přiřazení kodu, přiřazení tripadvisor kodu, vytvoření url pro api pro danou variable zemi, stažení dat"
   ]
  },
  {
   "cell_type": "code",
   "execution_count": 1,
   "metadata": {},
   "outputs": [],
   "source": [
    "import json, requests\n",
    "import pandas as pd\n",
    "import pycountry"
   ]
  },
  {
   "cell_type": "code",
   "execution_count": 2,
   "metadata": {},
   "outputs": [],
   "source": [
    "#creating list of countries and their codes for API\n",
    "countries={}\n",
    "for country in pycountry.countries:\n",
    "    countries[country.name] = country.alpha_2.lower()"
   ]
  },
  {
   "cell_type": "code",
   "execution_count": 5,
   "metadata": {},
   "outputs": [
    {
     "name": "stdout",
     "output_type": "stream",
     "text": [
      "Select country:Czechia\n",
      "Czechia\n",
      "cz\n"
     ]
    }
   ],
   "source": [
    "#selecting country\n",
    "\n",
    "country = input('Select country:')\n",
    "\n",
    "while country not in countries.keys():\n",
    "    country = input('Error, please select again:')\n",
    "\n",
    "code = pycountry.countries.get(name = country).alpha_2.lower()\n",
    "print(country)\n",
    "print(code)"
   ]
  },
  {
   "cell_type": "code",
   "execution_count": 7,
   "metadata": {},
   "outputs": [
    {
     "name": "stdout",
     "output_type": "stream",
     "text": [
      "[{\"countryCode\": \"cz\", \"countryName\": \"Czech Republic\", \"population\": [{\"year\": \"2016\", \"data\": \"10561633\"}, {\"year\": \"2015\", \"data\": \"10546059\"}, {\"year\": \"2014\", \"data\": \"10525347\"}, {\"year\": \"2013\", \"data\": \"10514272\"}, {\"year\": \"2012\", \"data\": \"10510785\"}, {\"year\": \"2011\", \"data\": \"10496088\"}, {\"year\": \"2010\", \"data\": \"10474410\"}, {\"year\": \"2009\", \"data\": \"10443936\"}, {\"year\": \"2008\", \"data\": \"10384603\"}, {\"year\": \"2007\", \"data\": \"10298828\"}, {\"year\": \"2006\", \"data\": \"10238905\"}, {\"year\": \"2005\", \"data\": \"10211216\"}, {\"year\": \"2004\", \"data\": \"10197101\"}, {\"year\": \"2003\", \"data\": \"10193998\"}, {\"year\": \"2002\", \"data\": \"10196916\"}, {\"year\": \"2001\", \"data\": \"10216605\"}, {\"year\": \"2000\", \"data\": \"10255063\"}, {\"year\": \"1999\", \"data\": \"10283860\"}, {\"year\": \"1998\", \"data\": \"10294373\"}, {\"year\": \"1997\", \"data\": \"10304131\"}, {\"year\": \"1996\", \"data\": \"10315241\"}, {\"year\": \"1995\", \"data\": \"10327253\"}, {\"year\": \"1994\", \"data\": \"10333587\"}, {\"year\": \"1993\", \"data\": \"10329855\"}, {\"year\": \"1992\", \"data\": \"10319123\"}, {\"year\": \"1991\", \"data\": \"10308578\"}, {\"year\": \"1990\", \"data\": \"10333355\"}]}]\n"
     ]
    }
   ],
   "source": [
    "# creating url for API and downloading API\n",
    "url = 'http://inqstatsapi.inqubu.com?api_key=c5b5c1dd6b0f4ea5&countries=' + code + '&data=population&years=1990:2016'\n",
    "\n",
    "data = requests.get(url).json()\n",
    "print(json.dumps(data))\n"
   ]
  },
  {
   "cell_type": "code",
   "execution_count": 25,
   "metadata": {},
   "outputs": [
    {
     "name": "stdout",
     "output_type": "stream",
     "text": [
      "{\"type\": \"error\", \"msg\": \"Invalid data argument.\"}\n"
     ]
    }
   ],
   "source": []
  },
  {
   "cell_type": "code",
   "execution_count": 17,
   "metadata": {},
   "outputs": [
    {
     "name": "stdout",
     "output_type": "stream",
     "text": [
      "[{\"countryCode\": \"us\", \"countryName\": \"USA\", \"population\": [{\"year\": \"1990\", \"data\": \"249623000\"}, {\"year\": \"1989\", \"data\": \"246819000\"}, {\"year\": \"1988\", \"data\": \"244499000\"}, {\"year\": \"1987\", \"data\": \"242289000\"}, {\"year\": \"1986\", \"data\": \"240133000\"}, {\"year\": \"1985\", \"data\": \"237924000\"}, {\"year\": \"1984\", \"data\": \"235825000\"}, {\"year\": \"1983\", \"data\": \"233792000\"}, {\"year\": \"1982\", \"data\": \"231664000\"}, {\"year\": \"1981\", \"data\": \"229466000\"}, {\"year\": \"1980\", \"data\": \"227225000\"}]}]\n"
     ]
    }
   ],
   "source": [
    "print(json.dumps(data))"
   ]
  }
 ],
 "metadata": {
  "kernelspec": {
   "display_name": "Python 3",
   "language": "python",
   "name": "python3"
  },
  "language_info": {
   "codemirror_mode": {
    "name": "ipython",
    "version": 3
   },
   "file_extension": ".py",
   "mimetype": "text/x-python",
   "name": "python",
   "nbconvert_exporter": "python",
   "pygments_lexer": "ipython3",
   "version": "3.7.1"
  }
 },
 "nbformat": 4,
 "nbformat_minor": 2
}

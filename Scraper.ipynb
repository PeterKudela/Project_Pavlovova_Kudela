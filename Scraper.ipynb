{
 "cells": [
  {
   "cell_type": "code",
   "execution_count": 29,
   "metadata": {},
   "outputs": [],
   "source": [
    "import requests\n",
    "from bs4 import BeautifulSoup\n",
    "import pandas as pd\n",
    "import pycountry\n",
    "\n"
   ]
  },
  {
   "cell_type": "markdown",
   "metadata": {},
   "source": [
    "## Get Top Places to Visit"
   ]
  },
  {
   "cell_type": "code",
   "execution_count": 30,
   "metadata": {},
   "outputs": [],
   "source": [
    "def getSoup(link):\n",
    "    r = requests.get(link)\n",
    "    r.encoding = 'UTF-8'\n",
    "    \n",
    "    return BeautifulSoup(r.text,'lxml')\n"
   ]
  },
  {
   "cell_type": "markdown",
   "metadata": {},
   "source": [
    "### Links\n"
   ]
  },
  {
   "cell_type": "markdown",
   "metadata": {},
   "source": [
    "GETTING LIST OF COUNTRIES NAMES"
   ]
  },
  {
   "cell_type": "code",
   "execution_count": 31,
   "metadata": {},
   "outputs": [],
   "source": [
    "countries = {}\n",
    "for country in pycountry.countries:\n",
    "    countries[country.name] = country.alpha_2.lower()\n"
   ]
  },
  {
   "cell_type": "code",
   "execution_count": 32,
   "metadata": {},
   "outputs": [],
   "source": [
    "countries_names = [countries.keys()]\n"
   ]
  },
  {
   "cell_type": "code",
   "execution_count": 33,
   "metadata": {},
   "outputs": [
    {
     "data": {
      "text/plain": [
       "dict_keys(['Aruba', 'Afghanistan', 'Angola', 'Anguilla', 'Åland Islands', 'Albania', 'Andorra', 'United Arab Emirates', 'Argentina', 'Armenia', 'American Samoa', 'Antarctica', 'French Southern Territories', 'Antigua and Barbuda', 'Australia', 'Austria', 'Azerbaijan', 'Burundi', 'Belgium', 'Benin', 'Bonaire, Sint Eustatius and Saba', 'Burkina Faso', 'Bangladesh', 'Bulgaria', 'Bahrain', 'Bahamas', 'Bosnia and Herzegovina', 'Saint Barthélemy', 'Belarus', 'Belize', 'Bermuda', 'Bolivia, Plurinational State of', 'Brazil', 'Barbados', 'Brunei Darussalam', 'Bhutan', 'Bouvet Island', 'Botswana', 'Central African Republic', 'Canada', 'Cocos (Keeling) Islands', 'Switzerland', 'Chile', 'China', \"Côte d'Ivoire\", 'Cameroon', 'Congo, The Democratic Republic of the', 'Congo', 'Cook Islands', 'Colombia', 'Comoros', 'Cabo Verde', 'Costa Rica', 'Cuba', 'Curaçao', 'Christmas Island', 'Cayman Islands', 'Cyprus', 'Czechia', 'Germany', 'Djibouti', 'Dominica', 'Denmark', 'Dominican Republic', 'Algeria', 'Ecuador', 'Egypt', 'Eritrea', 'Western Sahara', 'Spain', 'Estonia', 'Ethiopia', 'Finland', 'Fiji', 'Falkland Islands (Malvinas)', 'France', 'Faroe Islands', 'Micronesia, Federated States of', 'Gabon', 'United Kingdom', 'Georgia', 'Guernsey', 'Ghana', 'Gibraltar', 'Guinea', 'Guadeloupe', 'Gambia', 'Guinea-Bissau', 'Equatorial Guinea', 'Greece', 'Grenada', 'Greenland', 'Guatemala', 'French Guiana', 'Guam', 'Guyana', 'Hong Kong', 'Heard Island and McDonald Islands', 'Honduras', 'Croatia', 'Haiti', 'Hungary', 'Indonesia', 'Isle of Man', 'India', 'British Indian Ocean Territory', 'Ireland', 'Iran, Islamic Republic of', 'Iraq', 'Iceland', 'Israel', 'Italy', 'Jamaica', 'Jersey', 'Jordan', 'Japan', 'Kazakhstan', 'Kenya', 'Kyrgyzstan', 'Cambodia', 'Kiribati', 'Saint Kitts and Nevis', 'Korea, Republic of', 'Kuwait', \"Lao People's Democratic Republic\", 'Lebanon', 'Liberia', 'Libya', 'Saint Lucia', 'Liechtenstein', 'Sri Lanka', 'Lesotho', 'Lithuania', 'Luxembourg', 'Latvia', 'Macao', 'Saint Martin (French part)', 'Morocco', 'Monaco', 'Moldova, Republic of', 'Madagascar', 'Maldives', 'Mexico', 'Marshall Islands', 'Macedonia, Republic of', 'Mali', 'Malta', 'Myanmar', 'Montenegro', 'Mongolia', 'Northern Mariana Islands', 'Mozambique', 'Mauritania', 'Montserrat', 'Martinique', 'Mauritius', 'Malawi', 'Malaysia', 'Mayotte', 'Namibia', 'New Caledonia', 'Niger', 'Norfolk Island', 'Nigeria', 'Nicaragua', 'Niue', 'Netherlands', 'Norway', 'Nepal', 'Nauru', 'New Zealand', 'Oman', 'Pakistan', 'Panama', 'Pitcairn', 'Peru', 'Philippines', 'Palau', 'Papua New Guinea', 'Poland', 'Puerto Rico', \"Korea, Democratic People's Republic of\", 'Portugal', 'Paraguay', 'Palestine, State of', 'French Polynesia', 'Qatar', 'Réunion', 'Romania', 'Russian Federation', 'Rwanda', 'Saudi Arabia', 'Sudan', 'Senegal', 'Singapore', 'South Georgia and the South Sandwich Islands', 'Saint Helena, Ascension and Tristan da Cunha', 'Svalbard and Jan Mayen', 'Solomon Islands', 'Sierra Leone', 'El Salvador', 'San Marino', 'Somalia', 'Saint Pierre and Miquelon', 'Serbia', 'South Sudan', 'Sao Tome and Principe', 'Suriname', 'Slovakia', 'Slovenia', 'Sweden', 'Swaziland', 'Sint Maarten (Dutch part)', 'Seychelles', 'Syrian Arab Republic', 'Turks and Caicos Islands', 'Chad', 'Togo', 'Thailand', 'Tajikistan', 'Tokelau', 'Turkmenistan', 'Timor-Leste', 'Tonga', 'Trinidad and Tobago', 'Tunisia', 'Turkey', 'Tuvalu', 'Taiwan, Province of China', 'Tanzania, United Republic of', 'Uganda', 'Ukraine', 'United States Minor Outlying Islands', 'Uruguay', 'United States', 'Uzbekistan', 'Holy See (Vatican City State)', 'Saint Vincent and the Grenadines', 'Venezuela, Bolivarian Republic of', 'Virgin Islands, British', 'Virgin Islands, U.S.', 'Viet Nam', 'Vanuatu', 'Wallis and Futuna', 'Samoa', 'Yemen', 'South Africa', 'Zambia', 'Zimbabwe'])"
      ]
     },
     "execution_count": 33,
     "metadata": {},
     "output_type": "execute_result"
    }
   ],
   "source": [
    "countries.keys()"
   ]
  },
  {
   "cell_type": "markdown",
   "metadata": {},
   "source": [
    "TRIPADVISOR LINKS FOR EVERY COUNTRY"
   ]
  },
  {
   "cell_type": "code",
   "execution_count": 34,
   "metadata": {},
   "outputs": [],
   "source": [
    "links_google= [\"https://www.google.com/search?q=tripadvisor+15+best+things+to+do+in+\" + x for x in countries.keys()]\n"
   ]
  },
  {
   "cell_type": "code",
   "execution_count": 35,
   "metadata": {},
   "outputs": [
    {
     "data": {
      "text/plain": [
       "['https://www.google.com/search?q=tripadvisor+15+best+things+to+do+in+Aruba',\n",
       " 'https://www.google.com/search?q=tripadvisor+15+best+things+to+do+in+Afghanistan',\n",
       " 'https://www.google.com/search?q=tripadvisor+15+best+things+to+do+in+Angola',\n",
       " 'https://www.google.com/search?q=tripadvisor+15+best+things+to+do+in+Anguilla',\n",
       " 'https://www.google.com/search?q=tripadvisor+15+best+things+to+do+in+Åland Islands',\n",
       " 'https://www.google.com/search?q=tripadvisor+15+best+things+to+do+in+Albania',\n",
       " 'https://www.google.com/search?q=tripadvisor+15+best+things+to+do+in+Andorra',\n",
       " 'https://www.google.com/search?q=tripadvisor+15+best+things+to+do+in+United Arab Emirates',\n",
       " 'https://www.google.com/search?q=tripadvisor+15+best+things+to+do+in+Argentina',\n",
       " 'https://www.google.com/search?q=tripadvisor+15+best+things+to+do+in+Armenia',\n",
       " 'https://www.google.com/search?q=tripadvisor+15+best+things+to+do+in+American Samoa',\n",
       " 'https://www.google.com/search?q=tripadvisor+15+best+things+to+do+in+Antarctica',\n",
       " 'https://www.google.com/search?q=tripadvisor+15+best+things+to+do+in+French Southern Territories',\n",
       " 'https://www.google.com/search?q=tripadvisor+15+best+things+to+do+in+Antigua and Barbuda',\n",
       " 'https://www.google.com/search?q=tripadvisor+15+best+things+to+do+in+Australia',\n",
       " 'https://www.google.com/search?q=tripadvisor+15+best+things+to+do+in+Austria',\n",
       " 'https://www.google.com/search?q=tripadvisor+15+best+things+to+do+in+Azerbaijan',\n",
       " 'https://www.google.com/search?q=tripadvisor+15+best+things+to+do+in+Burundi',\n",
       " 'https://www.google.com/search?q=tripadvisor+15+best+things+to+do+in+Belgium',\n",
       " 'https://www.google.com/search?q=tripadvisor+15+best+things+to+do+in+Benin',\n",
       " 'https://www.google.com/search?q=tripadvisor+15+best+things+to+do+in+Bonaire, Sint Eustatius and Saba',\n",
       " 'https://www.google.com/search?q=tripadvisor+15+best+things+to+do+in+Burkina Faso',\n",
       " 'https://www.google.com/search?q=tripadvisor+15+best+things+to+do+in+Bangladesh',\n",
       " 'https://www.google.com/search?q=tripadvisor+15+best+things+to+do+in+Bulgaria',\n",
       " 'https://www.google.com/search?q=tripadvisor+15+best+things+to+do+in+Bahrain',\n",
       " 'https://www.google.com/search?q=tripadvisor+15+best+things+to+do+in+Bahamas',\n",
       " 'https://www.google.com/search?q=tripadvisor+15+best+things+to+do+in+Bosnia and Herzegovina',\n",
       " 'https://www.google.com/search?q=tripadvisor+15+best+things+to+do+in+Saint Barthélemy',\n",
       " 'https://www.google.com/search?q=tripadvisor+15+best+things+to+do+in+Belarus',\n",
       " 'https://www.google.com/search?q=tripadvisor+15+best+things+to+do+in+Belize',\n",
       " 'https://www.google.com/search?q=tripadvisor+15+best+things+to+do+in+Bermuda',\n",
       " 'https://www.google.com/search?q=tripadvisor+15+best+things+to+do+in+Bolivia, Plurinational State of',\n",
       " 'https://www.google.com/search?q=tripadvisor+15+best+things+to+do+in+Brazil',\n",
       " 'https://www.google.com/search?q=tripadvisor+15+best+things+to+do+in+Barbados',\n",
       " 'https://www.google.com/search?q=tripadvisor+15+best+things+to+do+in+Brunei Darussalam',\n",
       " 'https://www.google.com/search?q=tripadvisor+15+best+things+to+do+in+Bhutan',\n",
       " 'https://www.google.com/search?q=tripadvisor+15+best+things+to+do+in+Bouvet Island',\n",
       " 'https://www.google.com/search?q=tripadvisor+15+best+things+to+do+in+Botswana',\n",
       " 'https://www.google.com/search?q=tripadvisor+15+best+things+to+do+in+Central African Republic',\n",
       " 'https://www.google.com/search?q=tripadvisor+15+best+things+to+do+in+Canada',\n",
       " 'https://www.google.com/search?q=tripadvisor+15+best+things+to+do+in+Cocos (Keeling) Islands',\n",
       " 'https://www.google.com/search?q=tripadvisor+15+best+things+to+do+in+Switzerland',\n",
       " 'https://www.google.com/search?q=tripadvisor+15+best+things+to+do+in+Chile',\n",
       " 'https://www.google.com/search?q=tripadvisor+15+best+things+to+do+in+China',\n",
       " \"https://www.google.com/search?q=tripadvisor+15+best+things+to+do+in+Côte d'Ivoire\",\n",
       " 'https://www.google.com/search?q=tripadvisor+15+best+things+to+do+in+Cameroon',\n",
       " 'https://www.google.com/search?q=tripadvisor+15+best+things+to+do+in+Congo, The Democratic Republic of the',\n",
       " 'https://www.google.com/search?q=tripadvisor+15+best+things+to+do+in+Congo',\n",
       " 'https://www.google.com/search?q=tripadvisor+15+best+things+to+do+in+Cook Islands',\n",
       " 'https://www.google.com/search?q=tripadvisor+15+best+things+to+do+in+Colombia',\n",
       " 'https://www.google.com/search?q=tripadvisor+15+best+things+to+do+in+Comoros',\n",
       " 'https://www.google.com/search?q=tripadvisor+15+best+things+to+do+in+Cabo Verde',\n",
       " 'https://www.google.com/search?q=tripadvisor+15+best+things+to+do+in+Costa Rica',\n",
       " 'https://www.google.com/search?q=tripadvisor+15+best+things+to+do+in+Cuba',\n",
       " 'https://www.google.com/search?q=tripadvisor+15+best+things+to+do+in+Curaçao',\n",
       " 'https://www.google.com/search?q=tripadvisor+15+best+things+to+do+in+Christmas Island',\n",
       " 'https://www.google.com/search?q=tripadvisor+15+best+things+to+do+in+Cayman Islands',\n",
       " 'https://www.google.com/search?q=tripadvisor+15+best+things+to+do+in+Cyprus',\n",
       " 'https://www.google.com/search?q=tripadvisor+15+best+things+to+do+in+Czechia',\n",
       " 'https://www.google.com/search?q=tripadvisor+15+best+things+to+do+in+Germany',\n",
       " 'https://www.google.com/search?q=tripadvisor+15+best+things+to+do+in+Djibouti',\n",
       " 'https://www.google.com/search?q=tripadvisor+15+best+things+to+do+in+Dominica',\n",
       " 'https://www.google.com/search?q=tripadvisor+15+best+things+to+do+in+Denmark',\n",
       " 'https://www.google.com/search?q=tripadvisor+15+best+things+to+do+in+Dominican Republic',\n",
       " 'https://www.google.com/search?q=tripadvisor+15+best+things+to+do+in+Algeria',\n",
       " 'https://www.google.com/search?q=tripadvisor+15+best+things+to+do+in+Ecuador',\n",
       " 'https://www.google.com/search?q=tripadvisor+15+best+things+to+do+in+Egypt',\n",
       " 'https://www.google.com/search?q=tripadvisor+15+best+things+to+do+in+Eritrea',\n",
       " 'https://www.google.com/search?q=tripadvisor+15+best+things+to+do+in+Western Sahara',\n",
       " 'https://www.google.com/search?q=tripadvisor+15+best+things+to+do+in+Spain',\n",
       " 'https://www.google.com/search?q=tripadvisor+15+best+things+to+do+in+Estonia',\n",
       " 'https://www.google.com/search?q=tripadvisor+15+best+things+to+do+in+Ethiopia',\n",
       " 'https://www.google.com/search?q=tripadvisor+15+best+things+to+do+in+Finland',\n",
       " 'https://www.google.com/search?q=tripadvisor+15+best+things+to+do+in+Fiji',\n",
       " 'https://www.google.com/search?q=tripadvisor+15+best+things+to+do+in+Falkland Islands (Malvinas)',\n",
       " 'https://www.google.com/search?q=tripadvisor+15+best+things+to+do+in+France',\n",
       " 'https://www.google.com/search?q=tripadvisor+15+best+things+to+do+in+Faroe Islands',\n",
       " 'https://www.google.com/search?q=tripadvisor+15+best+things+to+do+in+Micronesia, Federated States of',\n",
       " 'https://www.google.com/search?q=tripadvisor+15+best+things+to+do+in+Gabon',\n",
       " 'https://www.google.com/search?q=tripadvisor+15+best+things+to+do+in+United Kingdom',\n",
       " 'https://www.google.com/search?q=tripadvisor+15+best+things+to+do+in+Georgia',\n",
       " 'https://www.google.com/search?q=tripadvisor+15+best+things+to+do+in+Guernsey',\n",
       " 'https://www.google.com/search?q=tripadvisor+15+best+things+to+do+in+Ghana',\n",
       " 'https://www.google.com/search?q=tripadvisor+15+best+things+to+do+in+Gibraltar',\n",
       " 'https://www.google.com/search?q=tripadvisor+15+best+things+to+do+in+Guinea',\n",
       " 'https://www.google.com/search?q=tripadvisor+15+best+things+to+do+in+Guadeloupe',\n",
       " 'https://www.google.com/search?q=tripadvisor+15+best+things+to+do+in+Gambia',\n",
       " 'https://www.google.com/search?q=tripadvisor+15+best+things+to+do+in+Guinea-Bissau',\n",
       " 'https://www.google.com/search?q=tripadvisor+15+best+things+to+do+in+Equatorial Guinea',\n",
       " 'https://www.google.com/search?q=tripadvisor+15+best+things+to+do+in+Greece',\n",
       " 'https://www.google.com/search?q=tripadvisor+15+best+things+to+do+in+Grenada',\n",
       " 'https://www.google.com/search?q=tripadvisor+15+best+things+to+do+in+Greenland',\n",
       " 'https://www.google.com/search?q=tripadvisor+15+best+things+to+do+in+Guatemala',\n",
       " 'https://www.google.com/search?q=tripadvisor+15+best+things+to+do+in+French Guiana',\n",
       " 'https://www.google.com/search?q=tripadvisor+15+best+things+to+do+in+Guam',\n",
       " 'https://www.google.com/search?q=tripadvisor+15+best+things+to+do+in+Guyana',\n",
       " 'https://www.google.com/search?q=tripadvisor+15+best+things+to+do+in+Hong Kong',\n",
       " 'https://www.google.com/search?q=tripadvisor+15+best+things+to+do+in+Heard Island and McDonald Islands',\n",
       " 'https://www.google.com/search?q=tripadvisor+15+best+things+to+do+in+Honduras',\n",
       " 'https://www.google.com/search?q=tripadvisor+15+best+things+to+do+in+Croatia',\n",
       " 'https://www.google.com/search?q=tripadvisor+15+best+things+to+do+in+Haiti',\n",
       " 'https://www.google.com/search?q=tripadvisor+15+best+things+to+do+in+Hungary',\n",
       " 'https://www.google.com/search?q=tripadvisor+15+best+things+to+do+in+Indonesia',\n",
       " 'https://www.google.com/search?q=tripadvisor+15+best+things+to+do+in+Isle of Man',\n",
       " 'https://www.google.com/search?q=tripadvisor+15+best+things+to+do+in+India',\n",
       " 'https://www.google.com/search?q=tripadvisor+15+best+things+to+do+in+British Indian Ocean Territory',\n",
       " 'https://www.google.com/search?q=tripadvisor+15+best+things+to+do+in+Ireland',\n",
       " 'https://www.google.com/search?q=tripadvisor+15+best+things+to+do+in+Iran, Islamic Republic of',\n",
       " 'https://www.google.com/search?q=tripadvisor+15+best+things+to+do+in+Iraq',\n",
       " 'https://www.google.com/search?q=tripadvisor+15+best+things+to+do+in+Iceland',\n",
       " 'https://www.google.com/search?q=tripadvisor+15+best+things+to+do+in+Israel',\n",
       " 'https://www.google.com/search?q=tripadvisor+15+best+things+to+do+in+Italy',\n",
       " 'https://www.google.com/search?q=tripadvisor+15+best+things+to+do+in+Jamaica',\n",
       " 'https://www.google.com/search?q=tripadvisor+15+best+things+to+do+in+Jersey',\n",
       " 'https://www.google.com/search?q=tripadvisor+15+best+things+to+do+in+Jordan',\n",
       " 'https://www.google.com/search?q=tripadvisor+15+best+things+to+do+in+Japan',\n",
       " 'https://www.google.com/search?q=tripadvisor+15+best+things+to+do+in+Kazakhstan',\n",
       " 'https://www.google.com/search?q=tripadvisor+15+best+things+to+do+in+Kenya',\n",
       " 'https://www.google.com/search?q=tripadvisor+15+best+things+to+do+in+Kyrgyzstan',\n",
       " 'https://www.google.com/search?q=tripadvisor+15+best+things+to+do+in+Cambodia',\n",
       " 'https://www.google.com/search?q=tripadvisor+15+best+things+to+do+in+Kiribati',\n",
       " 'https://www.google.com/search?q=tripadvisor+15+best+things+to+do+in+Saint Kitts and Nevis',\n",
       " 'https://www.google.com/search?q=tripadvisor+15+best+things+to+do+in+Korea, Republic of',\n",
       " 'https://www.google.com/search?q=tripadvisor+15+best+things+to+do+in+Kuwait',\n",
       " \"https://www.google.com/search?q=tripadvisor+15+best+things+to+do+in+Lao People's Democratic Republic\",\n",
       " 'https://www.google.com/search?q=tripadvisor+15+best+things+to+do+in+Lebanon',\n",
       " 'https://www.google.com/search?q=tripadvisor+15+best+things+to+do+in+Liberia',\n",
       " 'https://www.google.com/search?q=tripadvisor+15+best+things+to+do+in+Libya',\n",
       " 'https://www.google.com/search?q=tripadvisor+15+best+things+to+do+in+Saint Lucia',\n",
       " 'https://www.google.com/search?q=tripadvisor+15+best+things+to+do+in+Liechtenstein',\n",
       " 'https://www.google.com/search?q=tripadvisor+15+best+things+to+do+in+Sri Lanka',\n",
       " 'https://www.google.com/search?q=tripadvisor+15+best+things+to+do+in+Lesotho',\n",
       " 'https://www.google.com/search?q=tripadvisor+15+best+things+to+do+in+Lithuania',\n",
       " 'https://www.google.com/search?q=tripadvisor+15+best+things+to+do+in+Luxembourg',\n",
       " 'https://www.google.com/search?q=tripadvisor+15+best+things+to+do+in+Latvia',\n",
       " 'https://www.google.com/search?q=tripadvisor+15+best+things+to+do+in+Macao',\n",
       " 'https://www.google.com/search?q=tripadvisor+15+best+things+to+do+in+Saint Martin (French part)',\n",
       " 'https://www.google.com/search?q=tripadvisor+15+best+things+to+do+in+Morocco',\n",
       " 'https://www.google.com/search?q=tripadvisor+15+best+things+to+do+in+Monaco',\n",
       " 'https://www.google.com/search?q=tripadvisor+15+best+things+to+do+in+Moldova, Republic of',\n",
       " 'https://www.google.com/search?q=tripadvisor+15+best+things+to+do+in+Madagascar',\n",
       " 'https://www.google.com/search?q=tripadvisor+15+best+things+to+do+in+Maldives',\n",
       " 'https://www.google.com/search?q=tripadvisor+15+best+things+to+do+in+Mexico',\n",
       " 'https://www.google.com/search?q=tripadvisor+15+best+things+to+do+in+Marshall Islands',\n",
       " 'https://www.google.com/search?q=tripadvisor+15+best+things+to+do+in+Macedonia, Republic of',\n",
       " 'https://www.google.com/search?q=tripadvisor+15+best+things+to+do+in+Mali',\n",
       " 'https://www.google.com/search?q=tripadvisor+15+best+things+to+do+in+Malta',\n",
       " 'https://www.google.com/search?q=tripadvisor+15+best+things+to+do+in+Myanmar',\n",
       " 'https://www.google.com/search?q=tripadvisor+15+best+things+to+do+in+Montenegro',\n",
       " 'https://www.google.com/search?q=tripadvisor+15+best+things+to+do+in+Mongolia',\n",
       " 'https://www.google.com/search?q=tripadvisor+15+best+things+to+do+in+Northern Mariana Islands',\n",
       " 'https://www.google.com/search?q=tripadvisor+15+best+things+to+do+in+Mozambique',\n",
       " 'https://www.google.com/search?q=tripadvisor+15+best+things+to+do+in+Mauritania',\n",
       " 'https://www.google.com/search?q=tripadvisor+15+best+things+to+do+in+Montserrat',\n",
       " 'https://www.google.com/search?q=tripadvisor+15+best+things+to+do+in+Martinique',\n",
       " 'https://www.google.com/search?q=tripadvisor+15+best+things+to+do+in+Mauritius',\n",
       " 'https://www.google.com/search?q=tripadvisor+15+best+things+to+do+in+Malawi',\n",
       " 'https://www.google.com/search?q=tripadvisor+15+best+things+to+do+in+Malaysia',\n",
       " 'https://www.google.com/search?q=tripadvisor+15+best+things+to+do+in+Mayotte',\n",
       " 'https://www.google.com/search?q=tripadvisor+15+best+things+to+do+in+Namibia',\n",
       " 'https://www.google.com/search?q=tripadvisor+15+best+things+to+do+in+New Caledonia',\n",
       " 'https://www.google.com/search?q=tripadvisor+15+best+things+to+do+in+Niger',\n",
       " 'https://www.google.com/search?q=tripadvisor+15+best+things+to+do+in+Norfolk Island',\n",
       " 'https://www.google.com/search?q=tripadvisor+15+best+things+to+do+in+Nigeria',\n",
       " 'https://www.google.com/search?q=tripadvisor+15+best+things+to+do+in+Nicaragua',\n",
       " 'https://www.google.com/search?q=tripadvisor+15+best+things+to+do+in+Niue',\n",
       " 'https://www.google.com/search?q=tripadvisor+15+best+things+to+do+in+Netherlands',\n",
       " 'https://www.google.com/search?q=tripadvisor+15+best+things+to+do+in+Norway',\n",
       " 'https://www.google.com/search?q=tripadvisor+15+best+things+to+do+in+Nepal',\n",
       " 'https://www.google.com/search?q=tripadvisor+15+best+things+to+do+in+Nauru',\n",
       " 'https://www.google.com/search?q=tripadvisor+15+best+things+to+do+in+New Zealand',\n",
       " 'https://www.google.com/search?q=tripadvisor+15+best+things+to+do+in+Oman',\n",
       " 'https://www.google.com/search?q=tripadvisor+15+best+things+to+do+in+Pakistan',\n",
       " 'https://www.google.com/search?q=tripadvisor+15+best+things+to+do+in+Panama',\n",
       " 'https://www.google.com/search?q=tripadvisor+15+best+things+to+do+in+Pitcairn',\n",
       " 'https://www.google.com/search?q=tripadvisor+15+best+things+to+do+in+Peru',\n",
       " 'https://www.google.com/search?q=tripadvisor+15+best+things+to+do+in+Philippines',\n",
       " 'https://www.google.com/search?q=tripadvisor+15+best+things+to+do+in+Palau',\n",
       " 'https://www.google.com/search?q=tripadvisor+15+best+things+to+do+in+Papua New Guinea',\n",
       " 'https://www.google.com/search?q=tripadvisor+15+best+things+to+do+in+Poland',\n",
       " 'https://www.google.com/search?q=tripadvisor+15+best+things+to+do+in+Puerto Rico',\n",
       " \"https://www.google.com/search?q=tripadvisor+15+best+things+to+do+in+Korea, Democratic People's Republic of\",\n",
       " 'https://www.google.com/search?q=tripadvisor+15+best+things+to+do+in+Portugal',\n",
       " 'https://www.google.com/search?q=tripadvisor+15+best+things+to+do+in+Paraguay',\n",
       " 'https://www.google.com/search?q=tripadvisor+15+best+things+to+do+in+Palestine, State of',\n",
       " 'https://www.google.com/search?q=tripadvisor+15+best+things+to+do+in+French Polynesia',\n",
       " 'https://www.google.com/search?q=tripadvisor+15+best+things+to+do+in+Qatar',\n",
       " 'https://www.google.com/search?q=tripadvisor+15+best+things+to+do+in+Réunion',\n",
       " 'https://www.google.com/search?q=tripadvisor+15+best+things+to+do+in+Romania',\n",
       " 'https://www.google.com/search?q=tripadvisor+15+best+things+to+do+in+Russian Federation',\n",
       " 'https://www.google.com/search?q=tripadvisor+15+best+things+to+do+in+Rwanda',\n",
       " 'https://www.google.com/search?q=tripadvisor+15+best+things+to+do+in+Saudi Arabia',\n",
       " 'https://www.google.com/search?q=tripadvisor+15+best+things+to+do+in+Sudan',\n",
       " 'https://www.google.com/search?q=tripadvisor+15+best+things+to+do+in+Senegal',\n",
       " 'https://www.google.com/search?q=tripadvisor+15+best+things+to+do+in+Singapore',\n",
       " 'https://www.google.com/search?q=tripadvisor+15+best+things+to+do+in+South Georgia and the South Sandwich Islands',\n",
       " 'https://www.google.com/search?q=tripadvisor+15+best+things+to+do+in+Saint Helena, Ascension and Tristan da Cunha',\n",
       " 'https://www.google.com/search?q=tripadvisor+15+best+things+to+do+in+Svalbard and Jan Mayen',\n",
       " 'https://www.google.com/search?q=tripadvisor+15+best+things+to+do+in+Solomon Islands',\n",
       " 'https://www.google.com/search?q=tripadvisor+15+best+things+to+do+in+Sierra Leone',\n",
       " 'https://www.google.com/search?q=tripadvisor+15+best+things+to+do+in+El Salvador',\n",
       " 'https://www.google.com/search?q=tripadvisor+15+best+things+to+do+in+San Marino',\n",
       " 'https://www.google.com/search?q=tripadvisor+15+best+things+to+do+in+Somalia',\n",
       " 'https://www.google.com/search?q=tripadvisor+15+best+things+to+do+in+Saint Pierre and Miquelon',\n",
       " 'https://www.google.com/search?q=tripadvisor+15+best+things+to+do+in+Serbia',\n",
       " 'https://www.google.com/search?q=tripadvisor+15+best+things+to+do+in+South Sudan',\n",
       " 'https://www.google.com/search?q=tripadvisor+15+best+things+to+do+in+Sao Tome and Principe',\n",
       " 'https://www.google.com/search?q=tripadvisor+15+best+things+to+do+in+Suriname',\n",
       " 'https://www.google.com/search?q=tripadvisor+15+best+things+to+do+in+Slovakia',\n",
       " 'https://www.google.com/search?q=tripadvisor+15+best+things+to+do+in+Slovenia',\n",
       " 'https://www.google.com/search?q=tripadvisor+15+best+things+to+do+in+Sweden',\n",
       " 'https://www.google.com/search?q=tripadvisor+15+best+things+to+do+in+Swaziland',\n",
       " 'https://www.google.com/search?q=tripadvisor+15+best+things+to+do+in+Sint Maarten (Dutch part)',\n",
       " 'https://www.google.com/search?q=tripadvisor+15+best+things+to+do+in+Seychelles',\n",
       " 'https://www.google.com/search?q=tripadvisor+15+best+things+to+do+in+Syrian Arab Republic',\n",
       " 'https://www.google.com/search?q=tripadvisor+15+best+things+to+do+in+Turks and Caicos Islands',\n",
       " 'https://www.google.com/search?q=tripadvisor+15+best+things+to+do+in+Chad',\n",
       " 'https://www.google.com/search?q=tripadvisor+15+best+things+to+do+in+Togo',\n",
       " 'https://www.google.com/search?q=tripadvisor+15+best+things+to+do+in+Thailand',\n",
       " 'https://www.google.com/search?q=tripadvisor+15+best+things+to+do+in+Tajikistan',\n",
       " 'https://www.google.com/search?q=tripadvisor+15+best+things+to+do+in+Tokelau',\n",
       " 'https://www.google.com/search?q=tripadvisor+15+best+things+to+do+in+Turkmenistan',\n",
       " 'https://www.google.com/search?q=tripadvisor+15+best+things+to+do+in+Timor-Leste',\n",
       " 'https://www.google.com/search?q=tripadvisor+15+best+things+to+do+in+Tonga',\n",
       " 'https://www.google.com/search?q=tripadvisor+15+best+things+to+do+in+Trinidad and Tobago',\n",
       " 'https://www.google.com/search?q=tripadvisor+15+best+things+to+do+in+Tunisia',\n",
       " 'https://www.google.com/search?q=tripadvisor+15+best+things+to+do+in+Turkey',\n",
       " 'https://www.google.com/search?q=tripadvisor+15+best+things+to+do+in+Tuvalu',\n",
       " 'https://www.google.com/search?q=tripadvisor+15+best+things+to+do+in+Taiwan, Province of China',\n",
       " 'https://www.google.com/search?q=tripadvisor+15+best+things+to+do+in+Tanzania, United Republic of',\n",
       " 'https://www.google.com/search?q=tripadvisor+15+best+things+to+do+in+Uganda',\n",
       " 'https://www.google.com/search?q=tripadvisor+15+best+things+to+do+in+Ukraine',\n",
       " 'https://www.google.com/search?q=tripadvisor+15+best+things+to+do+in+United States Minor Outlying Islands',\n",
       " 'https://www.google.com/search?q=tripadvisor+15+best+things+to+do+in+Uruguay',\n",
       " 'https://www.google.com/search?q=tripadvisor+15+best+things+to+do+in+United States',\n",
       " 'https://www.google.com/search?q=tripadvisor+15+best+things+to+do+in+Uzbekistan',\n",
       " 'https://www.google.com/search?q=tripadvisor+15+best+things+to+do+in+Holy See (Vatican City State)',\n",
       " 'https://www.google.com/search?q=tripadvisor+15+best+things+to+do+in+Saint Vincent and the Grenadines',\n",
       " 'https://www.google.com/search?q=tripadvisor+15+best+things+to+do+in+Venezuela, Bolivarian Republic of',\n",
       " 'https://www.google.com/search?q=tripadvisor+15+best+things+to+do+in+Virgin Islands, British',\n",
       " 'https://www.google.com/search?q=tripadvisor+15+best+things+to+do+in+Virgin Islands, U.S.',\n",
       " 'https://www.google.com/search?q=tripadvisor+15+best+things+to+do+in+Viet Nam',\n",
       " 'https://www.google.com/search?q=tripadvisor+15+best+things+to+do+in+Vanuatu',\n",
       " 'https://www.google.com/search?q=tripadvisor+15+best+things+to+do+in+Wallis and Futuna',\n",
       " 'https://www.google.com/search?q=tripadvisor+15+best+things+to+do+in+Samoa',\n",
       " 'https://www.google.com/search?q=tripadvisor+15+best+things+to+do+in+Yemen',\n",
       " 'https://www.google.com/search?q=tripadvisor+15+best+things+to+do+in+South Africa',\n",
       " 'https://www.google.com/search?q=tripadvisor+15+best+things+to+do+in+Zambia',\n",
       " 'https://www.google.com/search?q=tripadvisor+15+best+things+to+do+in+Zimbabwe']"
      ]
     },
     "execution_count": 35,
     "metadata": {},
     "output_type": "execute_result"
    }
   ],
   "source": [
    "links_google"
   ]
  },
  {
   "cell_type": "markdown",
   "metadata": {},
   "source": [
    "#### Country Things to do top 15"
   ]
  },
  {
   "cell_type": "markdown",
   "metadata": {},
   "source": [
    "just fucntion"
   ]
  },
  {
   "cell_type": "code",
   "execution_count": 36,
   "metadata": {},
   "outputs": [
    {
     "name": "stdout",
     "output_type": "stream",
     "text": [
      "None\n"
     ]
    }
   ],
   "source": [
    "soup = getSoup('https://www.google.com/search?q=tripadvisor+best+things+to+do+in+slovakia')\n",
    "h3=soup.find('h3', {'class':\"r\"})\n",
    "print(h3)"
   ]
  },
  {
   "cell_type": "code",
   "execution_count": 28,
   "metadata": {},
   "outputs": [
    {
     "ename": "IndexError",
     "evalue": "list index out of range",
     "output_type": "error",
     "traceback": [
      "\u001b[1;31m---------------------------------------------------------------------------\u001b[0m",
      "\u001b[1;31mIndexError\u001b[0m                                Traceback (most recent call last)",
      "\u001b[1;32m<ipython-input-28-574697abb835>\u001b[0m in \u001b[0;36m<module>\u001b[1;34m\u001b[0m\n\u001b[0;32m      1\u001b[0m \u001b[0msoup\u001b[0m \u001b[1;33m=\u001b[0m \u001b[0mgetSoup\u001b[0m\u001b[1;33m(\u001b[0m\u001b[1;34m'https://www.google.com/search?q=tripadvisor+best+things+to+do+in+denmark'\u001b[0m\u001b[1;33m)\u001b[0m\u001b[1;33m\u001b[0m\u001b[1;33m\u001b[0m\u001b[0m\n\u001b[1;32m----> 2\u001b[1;33m \u001b[0mh3\u001b[0m\u001b[1;33m=\u001b[0m\u001b[0msoup\u001b[0m\u001b[1;33m.\u001b[0m\u001b[0mfindAll\u001b[0m\u001b[1;33m(\u001b[0m\u001b[1;34m'h3'\u001b[0m\u001b[1;33m,\u001b[0m \u001b[1;33m{\u001b[0m\u001b[1;34m'class'\u001b[0m\u001b[1;33m:\u001b[0m\u001b[1;34m\"r\"\u001b[0m\u001b[1;33m}\u001b[0m \u001b[1;33m)\u001b[0m\u001b[1;33m[\u001b[0m\u001b[1;36m2\u001b[0m\u001b[1;33m]\u001b[0m\u001b[1;33m\u001b[0m\u001b[1;33m\u001b[0m\u001b[0m\n\u001b[0m\u001b[0;32m      3\u001b[0m \u001b[0ma\u001b[0m\u001b[1;33m=\u001b[0m\u001b[0mh3\u001b[0m\u001b[1;33m.\u001b[0m\u001b[0mcontents\u001b[0m\u001b[1;33m[\u001b[0m\u001b[1;36m0\u001b[0m\u001b[1;33m]\u001b[0m\u001b[1;33m\u001b[0m\u001b[1;33m\u001b[0m\u001b[0m\n\u001b[0;32m      4\u001b[0m \u001b[0murl\u001b[0m\u001b[1;33m=\u001b[0m\u001b[0ma\u001b[0m\u001b[1;33m.\u001b[0m\u001b[0mget\u001b[0m\u001b[1;33m(\u001b[0m\u001b[1;34m'href'\u001b[0m\u001b[1;33m)\u001b[0m\u001b[1;33m\u001b[0m\u001b[1;33m\u001b[0m\u001b[0m\n\u001b[0;32m      5\u001b[0m \u001b[0murl\u001b[0m\u001b[1;33m=\u001b[0m\u001b[0murl\u001b[0m\u001b[1;33m.\u001b[0m\u001b[0mpartition\u001b[0m\u001b[1;33m(\u001b[0m\u001b[1;34m\"Attractions\"\u001b[0m\u001b[1;33m)\u001b[0m\u001b[1;33m[\u001b[0m\u001b[1;36m2\u001b[0m\u001b[1;33m]\u001b[0m\u001b[1;33m.\u001b[0m\u001b[0mpartition\u001b[0m\u001b[1;33m(\u001b[0m\u001b[1;34m\".html\"\u001b[0m\u001b[1;33m)\u001b[0m\u001b[1;33m[\u001b[0m\u001b[1;36m0\u001b[0m\u001b[1;33m]\u001b[0m\u001b[1;33m\u001b[0m\u001b[1;33m\u001b[0m\u001b[0m\n",
      "\u001b[1;31mIndexError\u001b[0m: list index out of range"
     ]
    }
   ],
   "source": [
    "soup = getSoup('https://www.google.com/search?q=tripadvisor+best+things+to+do+in+denmark')\n",
    "h3=soup.findAll('h3', {'class':\"r\"} )[2]\n",
    "a=h3.contents[0]\n",
    "url=a.get('href')\n",
    "url=url.partition(\"Attractions\")[2].partition(\".html\")[0]\n",
    "ta = 'http://tripadvisor.com/Attractions' \n",
    "adress= ta+url\n",
    "print(adress)\n",
    "\n"
   ]
  },
  {
   "cell_type": "code",
   "execution_count": 37,
   "metadata": {},
   "outputs": [
    {
     "ename": "AttributeError",
     "evalue": "'NoneType' object has no attribute 'contents'",
     "output_type": "error",
     "traceback": [
      "\u001b[1;31m---------------------------------------------------------------------------\u001b[0m",
      "\u001b[1;31mAttributeError\u001b[0m                            Traceback (most recent call last)",
      "\u001b[1;32m<ipython-input-37-d27fdaae321b>\u001b[0m in \u001b[0;36m<module>\u001b[1;34m\u001b[0m\n\u001b[1;32m----> 1\u001b[1;33m \u001b[0ma\u001b[0m\u001b[1;33m=\u001b[0m\u001b[0mh3\u001b[0m\u001b[1;33m.\u001b[0m\u001b[0mcontents\u001b[0m\u001b[1;33m[\u001b[0m\u001b[1;36m0\u001b[0m\u001b[1;33m]\u001b[0m\u001b[1;33m\u001b[0m\u001b[1;33m\u001b[0m\u001b[0m\n\u001b[0m\u001b[0;32m      2\u001b[0m \u001b[0murl\u001b[0m\u001b[1;33m=\u001b[0m\u001b[0ma\u001b[0m\u001b[1;33m.\u001b[0m\u001b[0mget\u001b[0m\u001b[1;33m(\u001b[0m\u001b[1;34m'href'\u001b[0m\u001b[1;33m)\u001b[0m\u001b[1;33m\u001b[0m\u001b[1;33m\u001b[0m\u001b[0m\n\u001b[0;32m      3\u001b[0m \u001b[0murl\u001b[0m\u001b[1;33m=\u001b[0m\u001b[0murl\u001b[0m\u001b[1;33m.\u001b[0m\u001b[0mpartition\u001b[0m\u001b[1;33m(\u001b[0m\u001b[1;34m\"Attractions\"\u001b[0m\u001b[1;33m)\u001b[0m\u001b[1;33m[\u001b[0m\u001b[1;36m2\u001b[0m\u001b[1;33m]\u001b[0m\u001b[1;33m.\u001b[0m\u001b[0mpartition\u001b[0m\u001b[1;33m(\u001b[0m\u001b[1;34m\".html\"\u001b[0m\u001b[1;33m)\u001b[0m\u001b[1;33m[\u001b[0m\u001b[1;36m0\u001b[0m\u001b[1;33m]\u001b[0m \u001b[1;31m#tripadvisor.cz\u001b[0m\u001b[1;33m\u001b[0m\u001b[1;33m\u001b[0m\u001b[0m\n\u001b[0;32m      4\u001b[0m \u001b[0mta\u001b[0m \u001b[1;33m=\u001b[0m \u001b[1;34m'http://tripadvisor.com/Attractions'\u001b[0m\u001b[1;33m\u001b[0m\u001b[1;33m\u001b[0m\u001b[0m\n\u001b[0;32m      5\u001b[0m \u001b[0madress\u001b[0m\u001b[1;33m=\u001b[0m \u001b[0mta\u001b[0m\u001b[1;33m+\u001b[0m\u001b[0murl\u001b[0m\u001b[1;33m\u001b[0m\u001b[1;33m\u001b[0m\u001b[0m\n",
      "\u001b[1;31mAttributeError\u001b[0m: 'NoneType' object has no attribute 'contents'"
     ]
    }
   ],
   "source": [
    "a=h3.contents[0]\n",
    "url=a.get('href')\n",
    "url=url.partition(\"Attractions\")[2].partition(\".html\")[0] #tripadvisor.cz\n",
    "ta = 'http://tripadvisor.com/Attractions' \n",
    "adress= ta+url\n",
    "print(adress)"
   ]
  },
  {
   "cell_type": "markdown",
   "metadata": {},
   "source": [
    "for loop"
   ]
  },
  {
   "cell_type": "code",
   "execution_count": 16,
   "metadata": {},
   "outputs": [
    {
     "ename": "AttributeError",
     "evalue": "'NoneType' object has no attribute 'contents'",
     "output_type": "error",
     "traceback": [
      "\u001b[1;31m---------------------------------------------------------------------------\u001b[0m",
      "\u001b[1;31mAttributeError\u001b[0m                            Traceback (most recent call last)",
      "\u001b[1;32m<ipython-input-16-69a8919c494a>\u001b[0m in \u001b[0;36m<module>\u001b[1;34m\u001b[0m\n\u001b[0;32m      3\u001b[0m     \u001b[0msoup\u001b[0m \u001b[1;33m=\u001b[0m \u001b[0mgetSoup\u001b[0m\u001b[1;33m(\u001b[0m\u001b[0mi\u001b[0m\u001b[1;33m)\u001b[0m\u001b[1;33m\u001b[0m\u001b[1;33m\u001b[0m\u001b[0m\n\u001b[0;32m      4\u001b[0m     \u001b[0mh3\u001b[0m\u001b[1;33m=\u001b[0m\u001b[0msoup\u001b[0m\u001b[1;33m.\u001b[0m\u001b[0mfind\u001b[0m\u001b[1;33m(\u001b[0m\u001b[1;34m'h3'\u001b[0m\u001b[1;33m,\u001b[0m \u001b[1;33m{\u001b[0m\u001b[1;34m'class'\u001b[0m\u001b[1;33m:\u001b[0m\u001b[1;34m\"r\"\u001b[0m\u001b[1;33m}\u001b[0m\u001b[1;33m)\u001b[0m\u001b[1;33m\u001b[0m\u001b[1;33m\u001b[0m\u001b[0m\n\u001b[1;32m----> 5\u001b[1;33m     \u001b[0ma\u001b[0m\u001b[1;33m=\u001b[0m\u001b[0mh3\u001b[0m\u001b[1;33m.\u001b[0m\u001b[0mcontents\u001b[0m\u001b[1;33m[\u001b[0m\u001b[1;36m0\u001b[0m\u001b[1;33m]\u001b[0m\u001b[1;33m\u001b[0m\u001b[1;33m\u001b[0m\u001b[0m\n\u001b[0m\u001b[0;32m      6\u001b[0m     \u001b[0murl\u001b[0m\u001b[1;33m=\u001b[0m\u001b[0ma\u001b[0m\u001b[1;33m.\u001b[0m\u001b[0mget\u001b[0m\u001b[1;33m(\u001b[0m\u001b[1;34m'href'\u001b[0m\u001b[1;33m)\u001b[0m\u001b[1;33m\u001b[0m\u001b[1;33m\u001b[0m\u001b[0m\n\u001b[0;32m      7\u001b[0m     \u001b[0murl\u001b[0m\u001b[1;33m=\u001b[0m\u001b[0murl\u001b[0m\u001b[1;33m.\u001b[0m\u001b[0mpartition\u001b[0m\u001b[1;33m(\u001b[0m\u001b[1;34m\"Attractions\"\u001b[0m\u001b[1;33m)\u001b[0m\u001b[1;33m[\u001b[0m\u001b[1;36m2\u001b[0m\u001b[1;33m]\u001b[0m\u001b[1;33m.\u001b[0m\u001b[0mpartition\u001b[0m\u001b[1;33m(\u001b[0m\u001b[1;34m\".html\"\u001b[0m\u001b[1;33m)\u001b[0m\u001b[1;33m[\u001b[0m\u001b[1;36m0\u001b[0m\u001b[1;33m]\u001b[0m\u001b[1;33m\u001b[0m\u001b[1;33m\u001b[0m\u001b[0m\n",
      "\u001b[1;31mAttributeError\u001b[0m: 'NoneType' object has no attribute 'contents'"
     ]
    }
   ],
   "source": [
    "links_tripadvisor=[]\n",
    "for i in links_google:\n",
    "    soup = getSoup(i)\n",
    "    h3=soup.find('h3', {'class':\"r\"})\n",
    "    a=h3.contents[0]\n",
    "    url=a.get('href')\n",
    "    url=url.partition(\"Attractions\")[2].partition(\".html\")[0]\n",
    "    ta = 'http://tripadvisor.com/Attractions' \n",
    "    adress= ta+url\n",
    "    links_tripadvisor.append(adress)\n",
    "print(links_tripadvisor)"
   ]
  },
  {
   "cell_type": "markdown",
   "metadata": {},
   "source": [
    "### Attraction Titles \n"
   ]
  },
  {
   "cell_type": "code",
   "execution_count": 35,
   "metadata": {
    "scrolled": true
   },
   "outputs": [],
   "source": [
    "attraction_titles_all=[]\n",
    "for i in links_tripadvisor:    \n",
    "    soup = getSoup(i)\n",
    "    divs = soup.findAll('div', {'class':'listing_title'}) \n",
    "    text_chunks = {div.contents[1] for div in divs}\n",
    "    attraction_titles_all.append({title.contents[0] for title in text_chunks})\n",
    "    "
   ]
  },
  {
   "cell_type": "markdown",
   "metadata": {},
   "source": [
    "IBA KÓD"
   ]
  },
  {
   "cell_type": "code",
   "execution_count": 16,
   "metadata": {
    "scrolled": false
   },
   "outputs": [
    {
     "name": "stdout",
     "output_type": "stream",
     "text": [
      "{'Euphoria Spice and Herbal', 'Gangaramaya (Vihara) Buddhist Temple', 'Bentota Beach', 'Jami Ul-Alfar Mosque', 'Hikkaduwa Beach', 'Mulgirigala Raja Maha Vihara', 'Main Fish Market', 'Temple of the Sacred Tooth Relic', 'Udawalawe National Park', 'Muthurajawela Marsh', 'Yala National Park', 'Sinharaja Forest Reserve', 'Old Town of Galle and its Fortifications', 'Dutch Canal', 'Horton Plains National Park', 'Pidurangala Rock', 'Negombo Lagoon', 'Ancient City of Sigiriya', 'Negombo Fish Market', 'Mount Lavinia Beach', 'Kelaniya Raja Maha Vihara', \"Little Adam's Peak\", 'Mirissa Beach', 'Colombo National Museum', 'Japanese Peace Pagoda', 'Angurukaramulla Temple', 'Galle Fort', 'Koneswaram Temple', 'Sea Turtle Farm', \"St. Mary's Church\"}\n"
     ]
    }
   ],
   "source": [
    "\n",
    "soup = getSoup(\"http://tripadvisor.com/Attractions-g293961-Activities-Sri_Lanka\")\n",
    "divs = soup.findAll('div', {'class':'listing_title'}) \n",
    "text_chunks = {div.contents[1] for div in divs}\n",
    "attraction_titles = {title.contents[0] for title in text_chunks}\n",
    "print(attraction_titles)"
   ]
  },
  {
   "cell_type": "markdown",
   "metadata": {},
   "source": [
    "## CLASS"
   ]
  },
  {
   "cell_type": "code",
   "execution_count": null,
   "metadata": {},
   "outputs": [],
   "source": [
    "class Country:\n",
    "    '''\n",
    "    '''\n",
    "    \n",
    "    def __init__(self,link):\n",
    "        self.link = link\n",
    "        r = requests.get(link)\n",
    "        r.encoding='UTF-8'\n",
    "        self.soup = BeautifulSoup(r.text,'lxml')\n",
    "    \n",
    "    \n",
    "    "
   ]
  },
  {
   "cell_type": "code",
   "execution_count": 2,
   "metadata": {},
   "outputs": [],
   "source": []
  }
 ],
 "metadata": {
  "kernelspec": {
   "display_name": "Python 3",
   "language": "python",
   "name": "python3"
  },
  "language_info": {
   "codemirror_mode": {
    "name": "ipython",
    "version": 3
   },
   "file_extension": ".py",
   "mimetype": "text/x-python",
   "name": "python",
   "nbconvert_exporter": "python",
   "pygments_lexer": "ipython3",
   "version": "3.7.1"
  }
 },
 "nbformat": 4,
 "nbformat_minor": 2
}

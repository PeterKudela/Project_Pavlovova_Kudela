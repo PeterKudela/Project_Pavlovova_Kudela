{
 "cells": [
  {
   "cell_type": "code",
   "execution_count": 8,
   "metadata": {},
   "outputs": [],
   "source": [
    "import requests\n",
    "from bs4 import BeautifulSoup\n",
    "import pandas as pd\n",
    "\n",
    "\n",
    "\n"
   ]
  },
  {
   "cell_type": "markdown",
   "metadata": {},
   "source": [
    "## Get Country Links\n",
    "\n",
    "def getAllLinks(link):\n",
    "    soup = getSoup(link)\n",
    "    #Tracer()()\n",
    "    tds = soup.findAll('td', {'class':'peopleTableCellName'})\n",
    "    return ['http://ies.fsv.cuni.cz' + td.find('a')['href'] for td in tds]\n",
    "\n",
    "links = getAllLinks('http://ies.fsv.cuni.cz/en/node/48')\n",
    "\n"
   ]
  },
  {
   "cell_type": "markdown",
   "metadata": {},
   "source": [
    "## Get Top Places to Visit"
   ]
  },
  {
   "cell_type": "code",
   "execution_count": 15,
   "metadata": {},
   "outputs": [],
   "source": [
    "def getSoup(link):\n",
    "    r = requests.get(link)\n",
    "    r.encoding = 'UTF-8'\n",
    "    \n",
    "    return BeautifulSoup(r.text,'lxml')\n",
    "def getName(link):\n",
    "    soup = getSoup(link)\n",
    "    return soup.find('a').text"
   ]
  },
  {
   "cell_type": "markdown",
   "metadata": {},
   "source": [
    "### Links\n"
   ]
  },
  {
   "cell_type": "markdown",
   "metadata": {},
   "source": [
    "#### Country"
   ]
  },
  {
   "cell_type": "code",
   "execution_count": 121,
   "metadata": {},
   "outputs": [
    {
     "data": {
      "text/plain": [
       "'http://tripadvisor.com/Attractions-g274922-Activities-Slovakia.html'"
      ]
     },
     "execution_count": 121,
     "metadata": {},
     "output_type": "execute_result"
    }
   ],
   "source": []
  },
  {
   "cell_type": "code",
   "execution_count": 129,
   "metadata": {},
   "outputs": [
    {
     "name": "stdout",
     "output_type": "stream",
     "text": [
      "None\n"
     ]
    }
   ],
   "source": [
    "soup = getSoup(\"https://www.tripadvisor.com/Search?geo=1&searchNearby=&pid=3826&redirect=&startTime=1555192604055&uiOrigin=MASTHEAD&q=Slovakia&supportedSearchTypes=find_near_stand_alone_query&enableNearPage=true&returnTo=__2F__&searchSessionId=6E04AA537D90EC250C122A440CB2639B1555192599769ssid&social_typeahead_2018_feature=true&sid=6E04AA537D90EC250C122A440CB2639B1555192607524\")\n",
    "div = soup.find('div', {'class':'location-meta-block'})\n",
    "print(div)"
   ]
  },
  {
   "cell_type": "code",
   "execution_count": null,
   "metadata": {},
   "outputs": [],
   "source": [
    "<div class=\"location-meta-block\"><div class=\"result-title\"><span>Slovakia</span></div><div class=\"review-count\">256,357 reviews and opinions</div></div>"
   ]
  },
  {
   "cell_type": "markdown",
   "metadata": {},
   "source": [
    "#### Things to do "
   ]
  },
  {
   "cell_type": "code",
   "execution_count": null,
   "metadata": {},
   "outputs": [],
   "source": [
    "<span class=\"ui_icon attractions brand-quick-links-QuickLinkTileItem__icon--2iguo\"></span>\n",
    "https://www.tripadvisor.com/"
   ]
  },
  {
   "cell_type": "code",
   "execution_count": 130,
   "metadata": {},
   "outputs": [
    {
     "data": {
      "text/plain": [
       "'http://tripadvisor.com/Attractions'"
      ]
     },
     "execution_count": 130,
     "metadata": {},
     "output_type": "execute_result"
    }
   ],
   "source": [
    "soup = getSoup(\"https://www.tripadvisor.com/\")\n",
    "span = soup.find('span', {'class':'ui_icon attractions brand-quick-links-QuickLinkTileItem__icon--2iguo'})\n",
    "a = span.parent\n",
    "ttdlink=a.get('href')\n",
    "ta = 'http://tripadvisor.com' \n",
    "ta+ttdlink"
   ]
  },
  {
   "cell_type": "code",
   "execution_count": 122,
   "metadata": {},
   "outputs": [
    {
     "data": {
      "text/plain": [
       "'http://tripadvisor.com/Attractions-g274922-Activities-Slovakia.html'"
      ]
     },
     "execution_count": 122,
     "metadata": {},
     "output_type": "execute_result"
    }
   ],
   "source": [
    "soup = getSoup(\"https://www.tripadvisor.com/Home-g274922?fid=8de6eb68-5dc1-4991-96ac-1a5b90ed0b10\")\n",
    "span = soup.find('span', {'class':'ui_icon attractions brand-quick-links-QuickLinkTileItem__icon--2iguo'})\n",
    "a = span.parent\n",
    "ttdlink=a.get('href')\n",
    "ta = 'http://tripadvisor.com' \n",
    "ta+ttdlink"
   ]
  },
  {
   "cell_type": "markdown",
   "metadata": {},
   "source": [
    "### Titles\n"
   ]
  },
  {
   "cell_type": "code",
   "execution_count": 95,
   "metadata": {},
   "outputs": [
    {
     "name": "stdout",
     "output_type": "stream",
     "text": [
      "{'Slavin', 'Church of St. Egidius', 'Lietava Castle', 'Modry Kostol', 'Slovak National Uprising Square', \"St Elizabeth's Cathedral (Dom Svatej Alzbety)\", 'Bratislava Old Town', 'Janosikove Diery', 'Rocky Mountain Lake', 'Belianska Cave', 'Town Tower', 'Museum of the Slovak National Uprising', 'Square of st. Egid', 'SNM - Bojnice Castle Museum', 'Kalvaria', 'Kosice Historical Centre', 'Waterfall Skok', 'Poprad Tourist information Center', 'Muzeum Zdiarsky Dom', 'Aquapark Tatralandia', 'Devin Castle', 'Jasna Nizke Tatry', 'Nitra Castle', 'Tatras National Park', 'The Clock Tower', 'Stary Smokovec–Hrebienok funicular', 'Demanovska Cave of Liberty', 'Zoo Kontakt', 'Trenciansky Hrad', 'Zelene pleso'}\n"
     ]
    }
   ],
   "source": [
    "soup = getSoup(\"https://www.tripadvisor.com/Attractions-g274922-Activities-Slovakia.html\")\n",
    "divs = soup.findAll('div', {'class':'listing_title'}) \n",
    "text_chunks = {div.contents[1] for div in divs}\n",
    "titles = {title.contents[0] for title in text_chunks}\n",
    "print(titles)"
   ]
  },
  {
   "cell_type": "markdown",
   "metadata": {},
   "source": [
    "## CLASS"
   ]
  },
  {
   "cell_type": "code",
   "execution_count": null,
   "metadata": {},
   "outputs": [],
   "source": [
    "class TripAdvisor:\n",
    "    '''\n",
    "    Class containing methods for parsing IES websites from self.soup attribute.\n",
    "    It is designed as a parent class for specific pages\n",
    "    '''\n",
    "    \n",
    "    def __init__(self,link):\n",
    "        self.link = link\n",
    "        r = requests.get(link)\n",
    "        r.encoding='UTF-8'\n",
    "        self.soup = BeautifulSoup(r.text,'lxml')\n",
    "    \n",
    "    \n",
    "    "
   ]
  }
 ],
 "metadata": {
  "kernelspec": {
   "display_name": "Python 3",
   "language": "python",
   "name": "python3"
  },
  "language_info": {
   "codemirror_mode": {
    "name": "ipython",
    "version": 3
   },
   "file_extension": ".py",
   "mimetype": "text/x-python",
   "name": "python",
   "nbconvert_exporter": "python",
   "pygments_lexer": "ipython3",
   "version": "3.7.1"
  }
 },
 "nbformat": 4,
 "nbformat_minor": 2
}

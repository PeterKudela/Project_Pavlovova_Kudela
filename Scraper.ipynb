{
 "cells": [
  {
   "cell_type": "code",
   "execution_count": 1,
   "metadata": {},
   "outputs": [],
   "source": [
    "import requests\n",
    "from bs4 import BeautifulSoup\n",
    "import pandas as pd\n",
    "import pycountry\n",
    "\n"
   ]
  },
  {
   "cell_type": "markdown",
   "metadata": {},
   "source": [
    "## Get Top Places to Visit"
   ]
  },
  {
   "cell_type": "code",
   "execution_count": 2,
   "metadata": {},
   "outputs": [],
   "source": [
    "def getSoup(link):\n",
    "    r = requests.get(link)\n",
    "    r.encoding = 'UTF-8'\n",
    "    return BeautifulSoup(r.text,'lxml')\n"
   ]
  },
  {
   "cell_type": "markdown",
   "metadata": {},
   "source": [
    "### Links\n"
   ]
  },
  {
   "cell_type": "markdown",
   "metadata": {},
   "source": [
    "GETTING LIST OF COUNTRIES NAMES"
   ]
  },
  {
   "cell_type": "code",
   "execution_count": 3,
   "metadata": {},
   "outputs": [],
   "source": [
    "countries = {}\n",
    "for country in pycountry.countries:\n",
    "    countries[country.name] = country.alpha_2.lower()\n"
   ]
  },
  {
   "cell_type": "markdown",
   "metadata": {},
   "source": [
    "#### Country Things to do top 15"
   ]
  },
  {
   "cell_type": "code",
   "execution_count": 113,
   "metadata": {},
   "outputs": [],
   "source": [
    "def getTripAdvisorLink(country):\n",
    "    soup = getSoup('https://www.google.com/search?q=tripadvisor+best+things+to+do+in+'+str(country))\n",
    "    ta = 'http://tripadvisor.com/Attractions' \n",
    "    i = 0\n",
    "    length = len(soup.findAll('h3', {'class':\"r\"}))\n",
    "    while True:\n",
    "        url=soup.findAll('h3', {'class':\"r\"})[i].contents[0].get('href').partition(\"Attractions\")[2].partition(\".html\")[0]\n",
    "        i+=1\n",
    "        adress = ta+url\n",
    "        if adress !=  ta:\n",
    "            return adress\n",
    "            break\n",
    "        if i == length :\n",
    "            break"
   ]
  },
  {
   "cell_type": "code",
   "execution_count": 117,
   "metadata": {},
   "outputs": [
    {
     "name": "stdout",
     "output_type": "stream",
     "text": [
      "{'Aruba': 'http://tripadvisor.com/Attractions-g147247-Activities-Aruba', 'Afghanistan': 'http://tripadvisor.com/Attractions-g659499-Activities-Afghanistan', 'Angola': 'http://tripadvisor.com/Attractions-g293762-Activities-Angola', 'Anguilla': 'http://tripadvisor.com/Attractions-g147238-Activities-Anguilla', 'Åland Islands': 'http://tripadvisor.com/Attractions-g189898-Activities-Aland_Island_Aland', 'Albania': 'http://tripadvisor.com/Attractions-g294445-Activities-Albania', 'Andorra': 'http://tripadvisor.com/Attractions-g190391-Activities-Andorra', 'United Arab Emirates': 'http://tripadvisor.com/Attractions-g294012-Activities-United_Arab_Emirates', 'Argentina': 'http://tripadvisor.com/Attractions-g294266-Activities-Argentina', 'Armenia': 'http://tripadvisor.com/Attractions-g293931-Activities-Armenia', 'American Samoa': 'http://tripadvisor.com/Attractions-g60665-Activities-American_Samoa', 'Antarctica': 'http://tripadvisor.com/Attractions-g660183-Activities-Antarctic_Peninsula', 'French Southern Territories': 'http://tripadvisor.com/Attractions-g187070-Activities-France', 'Antigua and Barbuda': 'http://tripadvisor.com/Attractions-g150894-Activities-Antigua_and_Barbuda', 'Australia': 'http://tripadvisor.com/Attractions-g255055-Activities-Australia', 'Austria': 'http://tripadvisor.com/Attractions-g190410-Activities-Austria', 'Azerbaijan': 'http://tripadvisor.com/Attractions-g293933-Activities-Azerbaijan', 'Burundi': 'http://tripadvisor.com/Attractions-g293770-Activities-Burundi', 'Belgium': 'http://tripadvisor.com/Attractions-g188634-Activities-Belgium', 'Benin': 'http://tripadvisor.com/Attractions-g293764-Activities-Benin', 'Bonaire, Sint Eustatius and Saba': 'http://tripadvisor.com/Attractions-g147267-Activities-Bonaire', 'Burkina Faso': 'http://tripadvisor.com/Attractions-g293768-Activities-Burkina_Faso', 'Bangladesh': 'http://tripadvisor.com/Attractions-g293935-Activities-Bangladesh', 'Bulgaria': 'http://tripadvisor.com/Attractions-g294451-Activities-Bulgaria', 'Bahrain': 'http://tripadvisor.com/Attractions-g293996-Activities-Bahrain', 'Bahamas': 'http://tripadvisor.com/Attractions-g147414-Activities-Bahamas', 'Bosnia and Herzegovina': 'http://tripadvisor.com/Attractions-g294449-Activities-Bosnia_and_Herzegovina', 'Saint Barthélemy': 'http://tripadvisor.com/Attractions-g147338-Activities-St_Barthelemy', 'Belarus': 'http://tripadvisor.com/Attractions-g294447-Activities-Belarus', 'Belize': 'http://tripadvisor.com/Attractions-g291959-Activities-Belize', 'Bermuda': 'http://tripadvisor.com/Attractions-g147255-Activities-Bermuda', 'Bolivia, Plurinational State of': 'http://tripadvisor.com/Attractions-g294071-Activities-Bolivia', 'Brazil': 'http://tripadvisor.com/Attractions-g294280-Activities-Brazil', 'Barbados': 'http://tripadvisor.com/Attractions-g147262-Activities-Barbados', 'Brunei Darussalam': 'http://tripadvisor.com/Attractions-g293937-Activities-Brunei_Darussalam', 'Bhutan': 'http://tripadvisor.com/Attractions-g293844-Activities-Bhutan', 'Bouvet Island': 'http://tripadvisor.com/Attractions-g186231-Activities-Sark_Channel_Islands', 'Botswana': 'http://tripadvisor.com/Attractions-g293766-Activities-Botswana', 'Central African Republic': 'http://tripadvisor.com/Attractions-g293776-Activities-Central_African_Republic', 'Canada': 'http://tripadvisor.com/Attractions-g153339-Activities-Canada', 'Cocos (Keeling) Islands': 'http://tripadvisor.com/Attractions-g295113-Activities-Cocos_Keeling_Islands', 'Switzerland': 'http://tripadvisor.com/Attractions-g188045-Activities-Switzerland', 'Chile': 'http://tripadvisor.com/Attractions-g294291-Activities-Chile', 'China': 'http://tripadvisor.com/Attractions-g294211-Activities-China', \"Côte d'Ivoire\": 'http://tripadvisor.com/Attractions-g297513-Activities-Abidjan_Lagunes_Region', 'Cameroon': 'http://tripadvisor.com/Attractions-g293772-Activities-Cameroon', 'Congo, The Democratic Republic of the': 'http://tripadvisor.com/Attractions-g294186-Activities-Democratic_Republic_of_the_Congo', 'Congo': 'http://tripadvisor.com/Attractions-g294186-Activities-Democratic_Republic_of_the_Congo', 'Cook Islands': 'http://tripadvisor.com/Attractions-g294328-Activities-Cook_Islands', 'Colombia': 'http://tripadvisor.com/Attractions-g294073-Activities-Colombia', 'Comoros': 'http://tripadvisor.com/Attractions-g294435-Activities-Comoros', 'Cabo Verde': 'http://tripadvisor.com/Attractions-g293774-Activities-Cape_Verde', 'Costa Rica': 'http://tripadvisor.com/Attractions-g291982-Activities-Costa_Rica', 'Cuba': 'http://tripadvisor.com/Attractions-g147270-Activities-Cuba', 'Curaçao': 'http://tripadvisor.com/Attractions-g147277-Activities-Curacao', 'Christmas Island': 'http://tripadvisor.com/Attractions-g295107-Activities-Christmas_Island', 'Cayman Islands': 'http://tripadvisor.com/Attractions-g147364-Activities-Cayman_Islands', 'Cyprus': 'http://tripadvisor.com/Attractions-g190372-Activities-Cyprus', 'Czechia': 'http://tripadvisor.com/Attractions-g274684-Activities-Czech_Republic', 'Germany': 'http://tripadvisor.com/Attractions-g187275-Activities-Germany', 'Djibouti': 'http://tripadvisor.com/Attractions-g293786-Activities-Djibouti', 'Dominica': 'http://tripadvisor.com/Attractions-g147281-Activities-Dominica', 'Denmark': 'http://tripadvisor.com/Attractions-g189512-Activities-Denmark', 'Dominican Republic': 'http://tripadvisor.com/Attractions-g147288-Activities-Dominican_Republic', 'Algeria': 'http://tripadvisor.com/Attractions-g293717-Activities-Algeria', 'Ecuador': 'http://tripadvisor.com/Attractions-g294307-Activities-Ecuador', 'Egypt': 'http://tripadvisor.com/Attractions-g294200-Activities-Egypt', 'Eritrea': 'http://tripadvisor.com/Attractions-g293788-Activities-Eritrea', 'Western Sahara': 'http://tripadvisor.com/Attractions-g295118-Activities-Western_Sahara', 'Spain': 'http://tripadvisor.com/Attractions-g187427-Activities-Spain', 'Estonia': 'http://tripadvisor.com/Attractions-g274952-Activities-Estonia', 'Ethiopia': 'http://tripadvisor.com/Attractions-g293790-Activities-Ethiopia', 'Finland': 'http://tripadvisor.com/Attractions-g189896-Activities-Finland', 'Fiji': 'http://tripadvisor.com/Attractions-g294331-Activities-Fiji', 'Falkland Islands (Malvinas)': 'http://tripadvisor.com/Attractions-g294270-Activities-Falkland_Islands', 'France': 'http://tripadvisor.com/Attractions-g187070-Activities-France', 'Faroe Islands': 'http://tripadvisor.com/Attractions-g190329-Activities-Faroe_Islands', 'Micronesia, Federated States of': 'http://tripadvisor.com/Attractions-g294198-Activities-Federated_States_of_Micronesia', 'Gabon': 'http://tripadvisor.com/Attractions-g293792-Activities-Gabon', 'United Kingdom': 'http://tripadvisor.com/Attractions-g186216-Activities-United_Kingdom', 'Georgia': 'http://tripadvisor.com/Attractions-g294194-Activities-Georgia', 'Guernsey': 'http://tripadvisor.com/Attractions-g186229-Activities-oa30-Guernsey_Channel_Islands', 'Ghana': 'http://tripadvisor.com/Attractions-g293797-Activities-Accra_Greater_Accra', 'Gibraltar': 'http://tripadvisor.com/Attractions-g187510-Activities-Gibraltar', 'Guinea': 'http://tripadvisor.com/Attractions-g293798-Activities-Guinea', 'Guadeloupe': 'http://tripadvisor.com/Attractions-g147300-Activities-Guadeloupe', 'Gambia': 'http://tripadvisor.com/Attractions-g293794-Activities-Gambia', 'Guinea-Bissau': 'http://tripadvisor.com/Attractions-g293800-Activities-Guinea_Bissau', 'Equatorial Guinea': 'http://tripadvisor.com/Attractions-g294437-Activities-Equatorial_Guinea', 'Greece': 'http://tripadvisor.com/Attractions-g189398-Activities-Greece', 'Grenada': 'http://tripadvisor.com/Attractions-g147295-Activities-Grenada', 'Greenland': 'http://tripadvisor.com/Attractions-g295111-Activities-Greenland', 'Guatemala': 'http://tripadvisor.com/Attractions-g292002-Activities-Guatemala', 'French Guiana': 'http://tripadvisor.com/Attractions-g294075-Activities-French_Guiana', 'Guam': 'http://tripadvisor.com/Attractions-g60668-Activities-Guam', 'Guyana': 'http://tripadvisor.com/Attractions-g294078-Activities-Georgetown_Demerara_Mahaica', 'Hong Kong': 'http://tripadvisor.com/Attractions-g294217-Activities-Hong_Kong', 'Heard Island and McDonald Islands': 'http://tripadvisor.com/Attractions-g7999023-Activities-Thousand_Islands_New_York_New_York', 'Honduras': 'http://tripadvisor.com/Attractions-g292016-Activities-Honduras', 'Croatia': 'http://tripadvisor.com/Attractions-g294453-Activities-Croatia', 'Haiti': 'http://tripadvisor.com/Attractions-g147306-Activities-Haiti', 'Hungary': 'http://tripadvisor.com/Attractions-g274881-Activities-Hungary', 'Indonesia': 'http://tripadvisor.com/Attractions-g294225-Activities-Indonesia', 'Isle of Man': 'http://tripadvisor.com/Attractions-g190927-Activities-Isle_of_Man', 'India': 'http://tripadvisor.com/Attractions-g293860-Activities-India', 'British Indian Ocean Territory': None, 'Ireland': 'http://tripadvisor.com/Attractions-g186591-Activities-Ireland', 'Iran, Islamic Republic of': 'http://tripadvisor.com/Attractions-g293998-Activities-Iran', 'Iraq': 'http://tripadvisor.com/Attractions-g294000-Activities-Iraq', 'Iceland': 'http://tripadvisor.com/Attractions-g189952-Activities-Iceland', 'Israel': 'http://tripadvisor.com/Attractions-g293977-Activities-Israel', 'Italy': 'http://tripadvisor.com/Attractions-g187768-Activities-Italy', 'Jamaica': 'http://tripadvisor.com/Attractions-g147309-Activities-Jamaica', 'Jersey': 'http://tripadvisor.com/Attractions-g186230-Activities-Jersey_Channel_Islands', 'Jordan': 'http://tripadvisor.com/Attractions-g293985-Activities-Jordan', 'Japan': 'http://tripadvisor.com/Attractions-g294232-Activities-Japan', 'Kazakhstan': 'http://tripadvisor.com/Attractions-g293943-Activities-Kazakhstan', 'Kenya': 'http://tripadvisor.com/Attractions-g294206-Activities-Kenya', 'Kyrgyzstan': 'http://tripadvisor.com/Attractions-g293947-Activities-Kyrgyzstan', 'Cambodia': 'http://tripadvisor.com/Attractions-g293939-Activities-Cambodia', 'Kiribati': 'http://tripadvisor.com/Attractions-g294121-Activities-Republic_of_Kiribati', 'Saint Kitts and Nevis': 'http://tripadvisor.com/Attractions-g147373-Activities-St_Kitts_and_Nevis', 'Korea, Republic of': 'http://tripadvisor.com/Attractions-g294197-Activities-Seoul', 'Kuwait': 'http://tripadvisor.com/Attractions-g294002-Activities-Kuwait', \"Lao People's Democratic Republic\": 'http://tripadvisor.com/Attractions-g293949-Activities-Laos', 'Lebanon': 'http://tripadvisor.com/Attractions-g294004-Activities-Lebanon', 'Liberia': 'http://tripadvisor.com/Attractions-g309240-Activities-Liberia_Province_of_Guanacaste', 'Libya': 'http://tripadvisor.com/Attractions-g293806-Activities-Libya', 'Saint Lucia': 'http://tripadvisor.com/Attractions-g147342-Activities-St_Lucia', 'Liechtenstein': 'http://tripadvisor.com/Attractions-g190357-Activities-Liechtenstein', 'Sri Lanka': 'http://tripadvisor.com/Attractions-g293961-Activities-Sri_Lanka', 'Lesotho': 'http://tripadvisor.com/Attractions-g293802-Activities-Lesotho', 'Lithuania': 'http://tripadvisor.com/Attractions-g274947-Activities-Lithuania', 'Luxembourg': 'http://tripadvisor.com/Attractions-g190340-Activities-Luxembourg', 'Latvia': 'http://tripadvisor.com/Attractions-g274960-Activities-Latvia', 'Macao': 'http://tripadvisor.com/Attractions-g664891-Activities-Macau', 'Saint Martin (French part)': 'http://tripadvisor.com/Attractions-g147346-Activities-St_Martin_St_Maarten', 'Morocco': 'http://tripadvisor.com/Attractions-g293730-Activities-Morocco', 'Monaco': 'http://tripadvisor.com/Attractions-g190405-Activities-Monaco', 'Moldova, Republic of': 'http://tripadvisor.com/Attractions-g294455-Activities-Moldova', 'Madagascar': 'http://tripadvisor.com/Attractions-g293808-Activities-Madagascar', 'Maldives': 'http://tripadvisor.com/Attractions-g293953-Activities-Maldives', 'Mexico': 'http://tripadvisor.com/Attractions-g150768-Activities-Mexico', 'Marshall Islands': 'http://tripadvisor.com/Attractions-g301393-Activities-Majuro', 'Macedonia, Republic of': 'http://tripadvisor.com/Attractions-g295109-Activities-Republic_of_Macedonia', 'Mali': 'http://tripadvisor.com/Attractions-g293812-Activities-Mali', 'Malta': 'http://tripadvisor.com/Attractions-g190311-Activities-Malta', 'Myanmar': 'http://tripadvisor.com/Attractions-g294190-Activities-Myanmar', 'Montenegro': 'http://tripadvisor.com/Attractions-g635648-Activities-Montenegro', 'Mongolia': 'http://tripadvisor.com/Attractions-g293956-Activities-Ulaanbaatar', 'Northern Mariana Islands': 'http://tripadvisor.com/Attractions-g60670-Activities-Northern_Mariana_Islands', 'Mozambique': 'http://tripadvisor.com/Attractions-g293818-Activities-Mozambique', 'Mauritania': 'http://tripadvisor.com/Attractions-g293814-Activities-Mauritania', 'Montserrat': 'http://tripadvisor.com/Attractions-g147333-Activities-Montserrat', 'Martinique': 'http://tripadvisor.com/Attractions-g147327-Activities-Martinique', 'Mauritius': 'http://tripadvisor.com/Attractions-g293816-Activities-Mauritius', 'Malawi': 'http://tripadvisor.com/Attractions-g293810-Activities-Malawi', 'Malaysia': 'http://tripadvisor.com/Attractions-g293951-Activities-Malaysia', 'Mayotte': 'http://tripadvisor.com/Attractions-g295116-Activities-Mayotte', 'Namibia': 'http://tripadvisor.com/Attractions-g293821-Activities-Windhoek_Khomas_Region', 'New Caledonia': 'http://tripadvisor.com/Attractions-g294130-Activities-Noumea_Grand_Terre', 'Niger': 'http://tripadvisor.com/Attractions-g293822-Activities-Niger', 'Norfolk Island': 'http://tripadvisor.com/Attractions-g295119-Activities-Norfolk_Island', 'Nigeria': 'http://tripadvisor.com/Attractions-g293824-Activities-Nigeria', 'Nicaragua': 'http://tripadvisor.com/Attractions-g294477-Activities-Nicaragua', 'Niue': 'http://tripadvisor.com/Attractions-g294131-Activities-Niue', 'Netherlands': 'http://tripadvisor.com/Attractions-g188553-Activities-The_Netherlands', 'Norway': 'http://tripadvisor.com/Attractions-g190455-Activities-Norway', 'Nepal': 'http://tripadvisor.com/Attractions-g293889-Activities-Nepal', 'Nauru': 'http://tripadvisor.com/Attractions-g294127-Activities-Nauru', 'New Zealand': 'http://tripadvisor.com/Attractions-g255104-Activities-New_Zealand', 'Oman': 'http://tripadvisor.com/Attractions-g294006-Activities-Oman', 'Pakistan': 'http://tripadvisor.com/Attractions-g293959-Activities-Pakistan', 'Panama': 'http://tripadvisor.com/Attractions-g294479-Activities-Panama', 'Pitcairn': 'http://tripadvisor.com/Attractions-g673774-Activities-Pitcairn_Islands', 'Peru': 'http://tripadvisor.com/Attractions-g294311-Activities-Peru', 'Philippines': 'http://tripadvisor.com/Attractions-g294245-Activities-Philippines', 'Palau': 'http://tripadvisor.com/Attractions-g294136-Activities-Koror_Koror_Island', 'Papua New Guinea': 'http://tripadvisor.com/Attractions-g294115-Activities-Papua_New_Guinea', 'Poland': 'http://tripadvisor.com/Attractions-g274723-Activities-Poland', 'Puerto Rico': 'http://tripadvisor.com/Attractions-g147319-Activities-Puerto_Rico', \"Korea, Democratic People's Republic of\": 'http://tripadvisor.com/Attractions-g294443-Activities-North_Korea', 'Portugal': 'http://tripadvisor.com/Attractions-g189100-Activities-Portugal', 'Paraguay': 'http://tripadvisor.com/Attractions-g294079-Activities-Paraguay', 'Palestine, State of': 'http://tripadvisor.com/Attractions-g660378-Activities-Palestinian_Territories', 'French Polynesia': 'http://tripadvisor.com/Attractions-g309679-Activities-Tahiti_Society_Islands', 'Qatar': 'http://tripadvisor.com/Attractions-g294009-Activities-Doha', 'Réunion': 'http://tripadvisor.com/Attractions-g293826-Activities-Reunion_Island', 'Romania': 'http://tripadvisor.com/Attractions-g294457-Activities-Romania', 'Russian Federation': 'http://tripadvisor.com/Attractions-g294459-Activities-Russia', 'Rwanda': 'http://tripadvisor.com/Attractions-g293829-Activities-Kigali_Kigali_Province', 'Saudi Arabia': 'http://tripadvisor.com/Attractions-g293991-Activities-Saudi_Arabia', 'Sudan': 'http://tripadvisor.com/Attractions-g293834-Activities-Sudan', 'Senegal': 'http://tripadvisor.com/Attractions-g293830-Activities-Senegal', 'Singapore': 'http://tripadvisor.com/Attractions-g294265-Activities-Singapore', 'South Georgia and the South Sandwich Islands': 'http://tripadvisor.com/Attractions-g1593026-Activities-South_Georgia', 'Saint Helena, Ascension and Tristan da Cunha': 'http://tripadvisor.com/Attractions-g295105-Activities-St_Helena_Ascension_and_Tristan_da_Cunha', 'Svalbard and Jan Mayen': 'http://tripadvisor.com/Attractions-g503713-Activities-c42-Svalbard', 'Solomon Islands': 'http://tripadvisor.com/Attractions-g294139-Activities-Solomon_Islands', 'Sierra Leone': 'http://tripadvisor.com/Attractions-g293833-Activities-Freetown_Western_Area', 'El Salvador': 'http://tripadvisor.com/Attractions-g294475-Activities-El_Salvador', 'San Marino': 'http://tripadvisor.com/Attractions-g187808-Activities-San_Marino', 'Somalia': 'http://tripadvisor.com/Attractions-g294439-Activities-Somalia', 'Saint Pierre and Miquelon': 'http://tripadvisor.com/Attractions-g183815-Activities-Saint_Pierre_and_Miquelon', 'Serbia': 'http://tripadvisor.com/Attractions-g294471-Activities-Serbia', 'South Sudan': 'http://tripadvisor.com/Attractions-g2201790-Activities-South_Sudan', 'Sao Tome and Principe': 'http://tripadvisor.com/Attractions-g294441-Activities-Sao_Tome_and_Principe', 'Suriname': 'http://tripadvisor.com/Attractions-g294081-Activities-Suriname', 'Slovakia': 'http://tripadvisor.com/Attractions-g274922-Activities-Slovakia', 'Slovenia': 'http://tripadvisor.com/Attractions-g274862-Activities-Slovenia', 'Sweden': 'http://tripadvisor.com/Attractions-g189806-Activities-Sweden', 'Swaziland': 'http://tripadvisor.com/Attractions-g293836-Activities-Eswatini_Swaziland', 'Sint Maarten (Dutch part)': 'http://tripadvisor.com/Attractions-g147346-Activities-St_Martin_St_Maarten', 'Seychelles': 'http://tripadvisor.com/Attractions-g293738-Activities-Seychelles', 'Syrian Arab Republic': 'http://tripadvisor.com/Attractions-g294010-Activities-Syria', 'Turks and Caicos Islands': 'http://tripadvisor.com/Attractions-g147395-Activities-Turks_and_Caicos', 'Chad': 'http://tripadvisor.com/Attractions-g293778-Activities-Chad', 'Togo': 'http://tripadvisor.com/Attractions-g293838-Activities-Togo', 'Thailand': 'http://tripadvisor.com/Attractions-g293915-Activities-Thailand', 'Tajikistan': 'http://tripadvisor.com/Attractions-g293963-Activities-Tajikistan', 'Tokelau': 'http://tripadvisor.com/Attractions-g295114-Activities-Tokelau', 'Turkmenistan': 'http://tripadvisor.com/Attractions-g293965-Activities-zft12170-Turkmenistan', 'Timor-Leste': 'http://tripadvisor.com/Attractions-g295117-Activities-East_Timor', 'Tonga': 'http://tripadvisor.com/Attractions-g294141-Activities-Tonga', 'Trinidad and Tobago': 'http://tripadvisor.com/Attractions-g147388-Activities-Trinidad_Trinidad_and_Tobago', 'Tunisia': 'http://tripadvisor.com/Attractions-g293753-Activities-Tunisia', 'Turkey': 'http://tripadvisor.com/Attractions-g293969-Activities-Turkey', 'Tuvalu': 'http://tripadvisor.com/Attractions-g294481-Activities-Tuvalu', 'Taiwan, Province of China': 'http://tripadvisor.com/Attractions-g293910-Activities-Taiwan', 'Tanzania, United Republic of': 'http://tripadvisor.com/Attractions-g293747-Activities-Tanzania', 'Uganda': 'http://tripadvisor.com/Attractions-g293840-Activities-Uganda', 'Ukraine': 'http://tripadvisor.com/Attractions-g294473-Activities-Ukraine', 'United States Minor Outlying Islands': 'http://tripadvisor.com/Attractions-g147400-Activities-U_S_Virgin_Islands', 'Uruguay': 'http://tripadvisor.com/Attractions-g294064-Activities-Uruguay', 'United States': 'http://tripadvisor.com/Attractions-g191-Activities-United_States', 'Uzbekistan': 'http://tripadvisor.com/Attractions-g293967-Activities-Uzbekistan', 'Holy See (Vatican City State)': 'http://tripadvisor.com/Attractions-g187793-Activities-Vatican_City_Lazio', 'Saint Vincent and the Grenadines': 'http://tripadvisor.com/Attractions-g147380-Activities-St_Vincent_St_Vincent_and_the_Grenadines', 'Venezuela, Bolivarian Republic of': 'http://tripadvisor.com/Attractions-g294324-Activities-Venezuela', 'Virgin Islands, British': 'http://tripadvisor.com/Attractions-g147353-Activities-British_Virgin_Islands', 'Virgin Islands, U.S.': 'http://tripadvisor.com/Attractions-g147400-Activities-U_S_Virgin_Islands', 'Viet Nam': 'http://tripadvisor.com/Attractions-g293921-Activities-Vietnam', 'Vanuatu': 'http://tripadvisor.com/Attractions-g294143-Activities-Vanuatu', 'Wallis and Futuna': 'http://tripadvisor.com/Attractions-g1746897-Activities-Wallis_and_Futuna', 'Samoa': 'http://tripadvisor.com/Attractions-g294137-Activities-Samoa', 'Yemen': 'http://tripadvisor.com/Attractions-g294014-Activities-Yemen', 'South Africa': 'http://tripadvisor.com/Attractions-g293740-Activities-South_Africa', 'Zambia': 'http://tripadvisor.com/Attractions-g293843-Activities-Lusaka_Lusaka_Province', 'Zimbabwe': 'http://tripadvisor.com/Attractions-g293759-Activities-Zimbabwe'}\n"
     ]
    }
   ],
   "source": [
    "links={}\n",
    "for country in countries.keys():\n",
    "    links[country]= getTripAdvisorLink(country)\n",
    "print(links)"
   ]
  },
  {
   "cell_type": "markdown",
   "metadata": {},
   "source": [
    "### Attraction Titles \n"
   ]
  },
  {
   "cell_type": "code",
   "execution_count": 35,
   "metadata": {
    "scrolled": true
   },
   "outputs": [],
   "source": [
    "attraction_titles_all=[]\n",
    "for i in links_tripadvisor:    \n",
    "    soup = getSoup(i)\n",
    "    divs = soup.findAll('div', {'class':'listing_title'}) \n",
    "    text_chunks = {div.contents[1] for div in divs}\n",
    "    attraction_titles_all.append({title.contents[0] for title in text_chunks})\n",
    "    "
   ]
  },
  {
   "cell_type": "markdown",
   "metadata": {},
   "source": [
    "IBA KÓD"
   ]
  },
  {
   "cell_type": "code",
   "execution_count": 77,
   "metadata": {
    "scrolled": false
   },
   "outputs": [
    {
     "name": "stdout",
     "output_type": "stream",
     "text": [
      "set()\n"
     ]
    }
   ],
   "source": [
    "\n",
    "soup = getSoup(\"https://www.tripadvisor.com/Attractions-g295113-Activities-Cocos_Keeling_Islands.html\")\n",
    "divs = soup.findAll('div', {'class':'listing_title'}) \n",
    "text_chunks = {div.contents[1] for div in divs}\n",
    "attraction_titles = {title.contents[0] for title in text_chunks}\n",
    "print(attraction_titles)"
   ]
  }
 ],
 "metadata": {
  "kernelspec": {
   "display_name": "Python 3",
   "language": "python",
   "name": "python3"
  },
  "language_info": {
   "codemirror_mode": {
    "name": "ipython",
    "version": 3
   },
   "file_extension": ".py",
   "mimetype": "text/x-python",
   "name": "python",
   "nbconvert_exporter": "python",
   "pygments_lexer": "ipython3",
   "version": "3.7.1"
  }
 },
 "nbformat": 4,
 "nbformat_minor": 2
}

{
 "cells": [
  {
   "cell_type": "code",
   "execution_count": 1,
   "metadata": {},
   "outputs": [],
   "source": [
    "import requests\n",
    "from bs4 import BeautifulSoup\n",
    "import pandas as pd\n",
    "import pycountry\n",
    "\n"
   ]
  },
  {
   "cell_type": "markdown",
   "metadata": {},
   "source": [
    "## Get Top Places to Visit"
   ]
  },
  {
   "cell_type": "code",
   "execution_count": 9,
   "metadata": {},
   "outputs": [],
   "source": [
    "def getSoup(link):\n",
    "    r = requests.get(link)\n",
    "    r.encoding = 'UTF-8'\n",
    "    \n",
    "    return BeautifulSoup(r.text,'lxml')\n"
   ]
  },
  {
   "cell_type": "markdown",
   "metadata": {},
   "source": [
    "### Links\n"
   ]
  },
  {
   "cell_type": "markdown",
   "metadata": {},
   "source": [
    "GETTING LIST OF COUNTRIES NAMES"
   ]
  },
  {
   "cell_type": "code",
   "execution_count": 3,
   "metadata": {},
   "outputs": [],
   "source": [
    "countries = {}\n",
    "for country in pycountry.countries:\n",
    "    countries[country.name] = country.alpha_2.lower()\n"
   ]
  },
  {
   "cell_type": "code",
   "execution_count": 6,
   "metadata": {},
   "outputs": [],
   "source": [
    "countries_names = [countries.keys()]\n"
   ]
  },
  {
   "cell_type": "markdown",
   "metadata": {},
   "source": [
    "TRIPADVISOR LINKS FOR EVERY COUNTRY"
   ]
  },
  {
   "cell_type": "code",
   "execution_count": 7,
   "metadata": {},
   "outputs": [],
   "source": [
    "links_google= [\"https://www.google.com/search?q=tripadvisor+15+best+things+to+do+in+\" + x for x in countries.keys()]\n"
   ]
  },
  {
   "cell_type": "markdown",
   "metadata": {},
   "source": [
    "#### Country Things to do top 15"
   ]
  },
  {
   "cell_type": "markdown",
   "metadata": {},
   "source": [
    "just fucntion"
   ]
  },
  {
   "cell_type": "code",
   "execution_count": 10,
   "metadata": {},
   "outputs": [
    {
     "name": "stdout",
     "output_type": "stream",
     "text": [
      "<h3 class=\"r\"><a href=\"/url?q=https://www.tripadvisor.cz/Attractions-g274922-Activities-Slovakia.html&amp;sa=U&amp;ved=0ahUKEwjk-Ifgl9fhAhUhCTQIHRutCXYQFggUMAA&amp;usg=AOvVaw3uZpKEvOPqNKkGFSz1cEZZ\">10 nejlepš�ch aktivit a pam�tek - <b>Slovensko</b> - <b>TripAdvisor</b></a></h3>\n"
     ]
    }
   ],
   "source": [
    "soup = getSoup('https://www.google.com/search?q=tripadvisor+best+things+to+do+in+slovakia')\n",
    "h3=soup.find('h3', {'class':\"r\"})\n",
    "print(h3)"
   ]
  },
  {
   "cell_type": "code",
   "execution_count": 11,
   "metadata": {},
   "outputs": [
    {
     "name": "stdout",
     "output_type": "stream",
     "text": [
      "http://tripadvisor.com/Attractions-g189512-Activities-Denmark\n"
     ]
    }
   ],
   "source": [
    "soup = getSoup('https://www.google.com/search?q=tripadvisor+best+things+to+do+in+denmark')\n",
    "h3=soup.findAll('h3', {'class':\"r\"} )[2]\n",
    "a=h3.contents[0]\n",
    "url=a.get('href')\n",
    "url=url.partition(\"Attractions\")[2].partition(\".html\")[0]\n",
    "ta = 'http://tripadvisor.com/Attractions' \n",
    "adress= ta+url\n",
    "print(adress)\n",
    "\n"
   ]
  },
  {
   "cell_type": "code",
   "execution_count": 12,
   "metadata": {},
   "outputs": [
    {
     "name": "stdout",
     "output_type": "stream",
     "text": [
      "http://tripadvisor.com/Attractions-g189512-Activities-Denmark\n"
     ]
    }
   ],
   "source": [
    "a=h3.contents[0]\n",
    "url=a.get('href')\n",
    "url=url.partition(\"Attractions\")[2].partition(\".html\")[0] #tripadvisor.cz\n",
    "ta = 'http://tripadvisor.com/Attractions' \n",
    "adress= ta+url\n",
    "print(adress)"
   ]
  },
  {
   "cell_type": "markdown",
   "metadata": {},
   "source": [
    "for loop"
   ]
  },
  {
   "cell_type": "code",
   "execution_count": 32,
   "metadata": {},
   "outputs": [
    {
     "name": "stdout",
     "output_type": "stream",
     "text": [
      "['http://tripadvisor.com/Attractions', 'http://tripadvisor.com/Attractions-g293828-Activities-Rwanda', 'http://tripadvisor.com/Attractions-g294481-Activities-Tuvalu', 'http://tripadvisor.com/Attractions', 'http://tripadvisor.com/Attractions-g294307-Activities-Ecuador', 'http://tripadvisor.com/Attractions-g188553-Activities-The_Netherlands', 'http://tripadvisor.com/Attractions-g1767153-Activities-St_Helena_Island', 'http://tripadvisor.com/Attractions-g293843-Activities-Lusaka_Lusaka_Province', 'http://tripadvisor.com/Attractions', 'http://tripadvisor.com/Attractions', 'http://tripadvisor.com/Attractions-g293753-Activities-Tunisia', 'http://tripadvisor.com/Attractions-g147400-Activities-U_S_Virgin_Islands', 'http://tripadvisor.com/Attractions', 'http://tripadvisor.com/Attractions-g293961-Activities-Sri_Lanka', 'http://tripadvisor.com/Attractions-g293810-Activities-Malawi', 'http://tripadvisor.com/Attractions-g293747-Activities-Tanzania', 'http://tripadvisor.com/Attractions-g294064-Activities-Uruguay', 'http://tripadvisor.com/Attractions-g294135-Activities-Palau', 'http://tripadvisor.com/Attractions-g186591-Activities-Ireland', 'http://tripadvisor.com/Attractions-g295109-Activities-Republic_of_Macedonia', 'http://tripadvisor.com/Attractions-g187808-Activities-San_Marino', 'http://tripadvisor.com/Attractions-g274952-Activities-Estonia', 'http://tripadvisor.com/Attractions-g294331-Activities-Fiji', 'http://tripadvisor.com/Attractions', 'http://tripadvisor.com/Attractions-g274707-Activities-Prague_Bohemia', 'http://tripadvisor.com/Attractions-g147270-Activities-Cuba', 'http://tripadvisor.com/Attractions-g150768-Activities-Mexico', 'http://tripadvisor.com/Attractions-g294311-Activities-Peru', 'http://tripadvisor.com/Attractions', 'http://tripadvisor.com/Attractions-g294075-Activities-French_Guiana', 'http://tripadvisor.com/Attractions-g659499-Activities-Afghanistan', 'http://tripadvisor.com/Attractions', 'http://tripadvisor.com/Attractions-g293826-Activities-Reunion_Island', 'http://tripadvisor.com/Attractions-g294139-Activities-Solomon_Islands', 'http://tripadvisor.com/Attractions-g147306-Activities-Haiti', 'http://tripadvisor.com/Attractions-g309240-Activities-Liberia_Province_of_Guanacaste', 'http://tripadvisor.com/Attractions-g294073-Activities-Colombia', 'http://tripadvisor.com/Attractions-g294131-Activities-Niue', 'http://tripadvisor.com/Attractions-g295107-Activities-Christmas_Island', 'http://tripadvisor.com/Attractions-g294081-Activities-Suriname', 'http://tripadvisor.com/Attractions', 'http://tripadvisor.com/Attractions-g293889-Activities-Nepal', 'http://tripadvisor.com/Attractions', 'http://tripadvisor.com/Attractions', 'http://tripadvisor.com/Attractions-g255104-Activities-New_Zealand', 'http://tripadvisor.com/Attractions-g294186-Activities-Democratic_Republic_of_the_Congo', 'http://tripadvisor.com/Attractions-g60668-Activities-Guam', 'http://tripadvisor.com/Attractions-g291959-Activities-Belize', 'http://tripadvisor.com/Attractions', 'http://tripadvisor.com/Attractions-g292016-Activities-Honduras', 'http://tripadvisor.com/Attractions', 'http://tripadvisor.com/Attractions-g293730-Activities-Morocco', 'http://tripadvisor.com/Attractions-g294435-Activities-Comoros', 'http://tripadvisor.com/Attractions', 'http://tripadvisor.com/Attractions-g293822-Activities-Niger', 'http://tripadvisor.com/Attractions-g293798-Activities-Guinea', 'http://tripadvisor.com/Attractions-g293943-Activities-Kazakhstan', 'http://tripadvisor.com/Attractions', 'http://tripadvisor.com/Attractions-g60670-Activities-Northern_Mariana_Islands', 'http://tripadvisor.com/Attractions-g190455-Activities-Norway', 'http://tripadvisor.com/Attractions-g147373-Activities-St_Kitts_and_Nevis', 'http://tripadvisor.com/Attractions', 'http://tripadvisor.com/Attractions-g293759-Activities-Zimbabwe', 'http://tripadvisor.com/Attractions', 'http://tripadvisor.com/Attractions-g294449-Activities-Bosnia_and_Herzegovina', 'http://tripadvisor.com/Attractions-g293951-Activities-Malaysia', 'http://tripadvisor.com/Attractions-g293796-Activities-Ghana', 'http://tripadvisor.com/Attractions-g293840-Activities-Uganda', 'http://tripadvisor.com/Attractions-g295118-Activities-c61-Western_Sahara', 'http://tripadvisor.com/Attractions-g294006-Activities-Oman', 'http://tripadvisor.com/Attractions-g293955-Activities-Mongolia', 'http://tripadvisor.com/Attractions-g660183-Activities-Antarctic_Peninsula', 'http://tripadvisor.com/Attractions', 'http://tripadvisor.com/Attractions-g293740-Activities-South_Africa', 'http://tripadvisor.com/Attractions', 'http://tripadvisor.com/Attractions-g294198-Activities-Federated_States_of_Micronesia', 'http://tripadvisor.com/Attractions', 'http://tripadvisor.com/Attractions-g293967-Activities-Uzbekistan', 'http://tripadvisor.com/Attractions', 'http://tripadvisor.com/Attractions-g293770-Activities-Burundi', 'http://tripadvisor.com/Attractions-g191-Activities-United_States', 'http://tripadvisor.com/Attractions-g147288-Activities-Dominican_Republic', 'http://tripadvisor.com/Attractions', 'http://tripadvisor.com/Attractions-g294079-Activities-Paraguay', 'http://tripadvisor.com/Attractions-g186216-Activities-United_Kingdom', 'http://tripadvisor.com/Attractions-g188045-Activities-Switzerland', 'http://tripadvisor.com/Attractions-g294453-Activities-Croatia', 'http://tripadvisor.com/Attractions-g255055-Activities-Australia', 'http://tripadvisor.com/Attractions-g294012-Activities-United_Arab_Emirates', 'http://tripadvisor.com/Attractions-g293802-Activities-Lesotho', 'http://tripadvisor.com/Attractions-g190405-Activities-Monaco', 'http://tripadvisor.com/Attractions-g274723-Activities-Poland', 'http://tripadvisor.com/Attractions', 'http://tripadvisor.com/Attractions-g294194-Activities-Georgia', 'http://tripadvisor.com/Attractions-g187793-Activities-Vatican_City_Lazio', 'http://tripadvisor.com/Attractions-g294479-Activities-Panama', 'http://tripadvisor.com/Attractions', 'http://tripadvisor.com/Attractions', 'http://tripadvisor.com/Attractions', 'http://tripadvisor.com/Attractions-g294324-Activities-Venezuela', 'http://tripadvisor.com/Attractions', 'http://tripadvisor.com/Attractions', 'http://tripadvisor.com/Attractions-g298484-Activities-Moscow_Central_Russia', 'http://tripadvisor.com/Attractions-g153339-Activities-Canada', 'http://tripadvisor.com/Attractions-g294440-Activities-Mogadishu', 'http://tripadvisor.com/Attractions-g293836-Activities-Eswatini_Swaziland', 'http://tripadvisor.com/Attractions-g293996-Activities-Bahrain', 'http://tripadvisor.com/Attractions-g293959-Activities-Pakistan', 'http://tripadvisor.com/Attractions', 'http://tripadvisor.com/Attractions-g736246-Activities-St_Pierre_Valle_d_Aosta', 'http://tripadvisor.com/Attractions-g294141-Activities-Tonga', 'http://tripadvisor.com/Attractions', 'http://tripadvisor.com/Attractions-g190391-Activities-Andorra', 'http://tripadvisor.com/Attractions-g293838-Activities-Togo', 'http://tripadvisor.com/Attractions-g293790-Activities-Ethiopia', 'http://tripadvisor.com/Attractions-g53447-Activities-Pitcairn_Pennsylvania', 'http://tripadvisor.com/Attractions-g294291-Activities-Chile', 'http://tripadvisor.com/Attractions-g293998-Activities-Iran', 'http://tripadvisor.com/Attractions', 'http://tripadvisor.com/Attractions-g293808-Activities-Madagascar', 'http://tripadvisor.com/Attractions-g293820-Activities-Namibia', 'http://tripadvisor.com/Attractions-g294014-Activities-Yemen', 'http://tripadvisor.com/Attractions', 'http://tripadvisor.com/Attractions-g147353-Activities-British_Virgin_Islands', 'http://tripadvisor.com/Attractions-g293772-Activities-Cameroon', 'http://tripadvisor.com/Attractions-g294077-Activities-Guyana', 'http://tripadvisor.com/Attractions', 'http://tripadvisor.com/Attractions', 'http://tripadvisor.com/Attractions-g294455-Activities-Moldova', 'http://tripadvisor.com/Attractions', 'http://tripadvisor.com/Attractions-g294262-Activities-Singapore', 'http://tripadvisor.com/Attractions', 'http://tripadvisor.com/Attractions-g294211-Activities-China', 'http://tripadvisor.com/Attractions-g60665-Activities-American_Samoa', 'http://tripadvisor.com/Attractions-g293939-Activities-Cambodia', 'http://tripadvisor.com/Attractions-g187275-Activities-Germany', 'http://tripadvisor.com/Attractions', 'http://tripadvisor.com/Attractions-g147277-Activities-Curacao', 'http://tripadvisor.com/Attractions', 'http://tripadvisor.com/Attractions-g294443-Activities-North_Korea', 'http://tripadvisor.com/Attractions-g187768-Activities-Italy', 'http://tripadvisor.com/Attractions', 'http://tripadvisor.com/Attractions-g294197-Activities-Seoul', 'http://tripadvisor.com/Attractions-g274922-Activities-Slovakia', 'http://tripadvisor.com/Attractions-g294473-Activities-Ukraine', 'http://tripadvisor.com/Attractions-g293947-Activities-Kyrgyzstan', 'http://tripadvisor.com/Attractions-g293933-Activities-Azerbaijan', 'http://tripadvisor.com/Attractions-g294127-Activities-Nauru', 'http://tripadvisor.com/Attractions-g188634-Activities-Belgium', 'http://tripadvisor.com/Attractions', 'http://tripadvisor.com/Attractions-g293844-Activities-Bhutan', 'http://tripadvisor.com/Attractions-g293818-Activities-Mozambique', 'http://tripadvisor.com/Attractions', 'http://tripadvisor.com/Attractions', 'http://tripadvisor.com/Attractions-g293910-Activities-Taiwan', 'http://tripadvisor.com/Attractions-g294115-Activities-Papua_New_Guinea', 'http://tripadvisor.com/Attractions', 'http://tripadvisor.com/Attractions', 'http://tripadvisor.com/Attractions-g293768-Activities-Burkina_Faso', 'http://tripadvisor.com/Attractions-g295116-Activities-Mayotte', 'http://tripadvisor.com/Attractions-g294225-Activities-Indonesia', 'http://tripadvisor.com/Attractions', 'http://tripadvisor.com/Attractions', 'http://tripadvisor.com/Attractions-g293949-Activities-Laos', 'http://tripadvisor.com/Attractions-g293814-Activities-Mauritania', 'http://tripadvisor.com/Attractions-g295119-Activities-Norfolk_Island', 'http://tripadvisor.com/Attractions-g295113-Activities-Cocos_Keeling_Islands', 'http://tripadvisor.com/Attractions', 'http://tripadvisor.com/Attractions-g40165-Activities-French_Settlement_Louisiana', 'http://tripadvisor.com/Attractions', 'http://tripadvisor.com/Attractions-g294190-Activities-Myanmar', 'http://tripadvisor.com/Attractions-g293834-Activities-Sudan', 'http://tripadvisor.com/Attractions-g294447-Activities-Belarus', 'http://tripadvisor.com/Attractions', 'http://tripadvisor.com/Attractions-g293921-Activities-Vietnam', 'http://tripadvisor.com/Attractions', 'http://tripadvisor.com/Attractions-g294186-Activities-Democratic_Republic_of_the_Congo', 'http://tripadvisor.com/Attractions-g294437-Activities-Equatorial_Guinea', 'http://tripadvisor.com/Attractions', 'http://tripadvisor.com/Attractions-g293764-Activities-Benin', 'http://tripadvisor.com/Attractions-g294137-Activities-Samoa', 'http://tripadvisor.com/Attractions-g294130-Activities-Noumea_Grand_Terre', 'http://tripadvisor.com/Attractions-g293966-Activities-Ashgabat_Ahal_Province', 'http://tripadvisor.com/Attractions-g274862-Activities-Slovenia', 'http://tripadvisor.com/Attractions-g294143-Activities-Vanuatu', 'http://tripadvisor.com/Attractions-g294266-Activities-Argentina', 'http://tripadvisor.com/Attractions-g293991-Activities-Saudi_Arabia', 'http://tripadvisor.com/Attractions', 'http://tripadvisor.com/Attractions-g147281-Activities-Dominica', 'http://tripadvisor.com/Attractions-g190311-Activities-Malta', 'http://tripadvisor.com/Attractions-g293786-Activities-Djibouti', 'http://tripadvisor.com/Attractions', 'http://tripadvisor.com/Attractions-g294003-Activities-Kuwait_City', 'http://tripadvisor.com/Attractions-g660183-Activities-Antarctic_Peninsula', 'http://tripadvisor.com/Attractions', 'http://tripadvisor.com/Attractions', 'http://tripadvisor.com/Attractions', 'http://tripadvisor.com/Attractions-g293778-Activities-Chad', 'http://tripadvisor.com/Attractions', 'http://tripadvisor.com/Attractions-g297513-Activities-Abidjan_Lagunes_Region', 'http://tripadvisor.com/Attractions-g294457-Activities-Romania', 'http://tripadvisor.com/Attractions-g293812-Activities-Mali', 'http://tripadvisor.com/Attractions', 'http://tripadvisor.com/Attractions', 'http://tripadvisor.com/Attractions', 'http://tripadvisor.com/Attractions-g294010-Activities-Syria', 'http://tripadvisor.com/Attractions', 'http://tripadvisor.com/Attractions', 'http://tripadvisor.com/Attractions-g294004-Activities-Lebanon', 'http://tripadvisor.com/Attractions-g293824-Activities-Nigeria', 'http://tripadvisor.com/Attractions-g293774-Activities-Cape_Verde', 'http://tripadvisor.com/Attractions-g294450-Activities-Sarajevo_Sarajevo_Canton', 'http://tripadvisor.com/Attractions-g294000-Activities-Iraq', 'http://tripadvisor.com/Attractions', 'http://tripadvisor.com/Attractions-g294071-Activities-Bolivia', 'http://tripadvisor.com/Attractions-g293766-Activities-Botswana', 'http://tripadvisor.com/Attractions', 'http://tripadvisor.com/Attractions', 'http://tripadvisor.com/Attractions-g293860-Activities-India', 'http://tripadvisor.com/Attractions-g294451-Activities-Bulgaria', 'http://tripadvisor.com/Attractions', 'http://tripadvisor.com/Attractions-g293830-Activities-Senegal', 'http://tripadvisor.com/Attractions-g293935-Activities-Bangladesh', 'http://tripadvisor.com/Attractions-g293793-Activities-Libreville_Estuaire_Province', 'http://tripadvisor.com/Attractions-g294280-Activities-Brazil', 'http://tripadvisor.com/Attractions-g147387-Activities-Trinidad_and_Tobago', 'http://tripadvisor.com/Attractions-g147319-Activities-Puerto_Rico', 'http://tripadvisor.com/Attractions-g293832-Activities-Sierra_Leone', 'http://tripadvisor.com/Attractions-g293806-Activities-Libya', 'http://tripadvisor.com/Attractions', 'http://tripadvisor.com/Attractions-g293788-Activities-Eritrea']\n"
     ]
    }
   ],
   "source": [
    "links_tripadvisor=[]\n",
    "for i in links_google:\n",
    "    soup = getSoup(i)\n",
    "    h3=soup.find('h3', {'class':\"r\"})\n",
    "    a=h3.contents[0]\n",
    "    url=a.get('href')\n",
    "    url=url.partition(\"Attractions\")[2].partition(\".html\")[0]\n",
    "    ta = 'http://tripadvisor.com/Attractions' \n",
    "    adress= ta+url\n",
    "    links_tripadvisor.append(adress)\n",
    "print(links_tripadvisor)"
   ]
  },
  {
   "cell_type": "markdown",
   "metadata": {},
   "source": [
    "### Attraction Titles \n"
   ]
  },
  {
   "cell_type": "code",
   "execution_count": 35,
   "metadata": {
    "scrolled": true
   },
   "outputs": [],
   "source": [
    "attraction_titles_all=[]\n",
    "for i in links_tripadvisor:    \n",
    "    soup = getSoup(i)\n",
    "    divs = soup.findAll('div', {'class':'listing_title'}) \n",
    "    text_chunks = {div.contents[1] for div in divs}\n",
    "    attraction_titles_all.append({title.contents[0] for title in text_chunks})\n",
    "    "
   ]
  },
  {
   "cell_type": "markdown",
   "metadata": {},
   "source": [
    "IBA KÓD"
   ]
  },
  {
   "cell_type": "code",
   "execution_count": 16,
   "metadata": {
    "scrolled": false
   },
   "outputs": [
    {
     "name": "stdout",
     "output_type": "stream",
     "text": [
      "{'Euphoria Spice and Herbal', 'Gangaramaya (Vihara) Buddhist Temple', 'Bentota Beach', 'Jami Ul-Alfar Mosque', 'Hikkaduwa Beach', 'Mulgirigala Raja Maha Vihara', 'Main Fish Market', 'Temple of the Sacred Tooth Relic', 'Udawalawe National Park', 'Muthurajawela Marsh', 'Yala National Park', 'Sinharaja Forest Reserve', 'Old Town of Galle and its Fortifications', 'Dutch Canal', 'Horton Plains National Park', 'Pidurangala Rock', 'Negombo Lagoon', 'Ancient City of Sigiriya', 'Negombo Fish Market', 'Mount Lavinia Beach', 'Kelaniya Raja Maha Vihara', \"Little Adam's Peak\", 'Mirissa Beach', 'Colombo National Museum', 'Japanese Peace Pagoda', 'Angurukaramulla Temple', 'Galle Fort', 'Koneswaram Temple', 'Sea Turtle Farm', \"St. Mary's Church\"}\n"
     ]
    }
   ],
   "source": [
    "\n",
    "soup = getSoup(\"http://tripadvisor.com/Attractions-g293961-Activities-Sri_Lanka\")\n",
    "divs = soup.findAll('div', {'class':'listing_title'}) \n",
    "text_chunks = {div.contents[1] for div in divs}\n",
    "attraction_titles = {title.contents[0] for title in text_chunks}\n",
    "print(attraction_titles)"
   ]
  },
  {
   "cell_type": "markdown",
   "metadata": {},
   "source": [
    "## CLASS"
   ]
  },
  {
   "cell_type": "code",
   "execution_count": null,
   "metadata": {},
   "outputs": [],
   "source": [
    "class Country:\n",
    "    '''\n",
    "    '''\n",
    "    \n",
    "    def __init__(self,link):\n",
    "        self.link = link\n",
    "        r = requests.get(link)\n",
    "        r.encoding='UTF-8'\n",
    "        self.soup = BeautifulSoup(r.text,'lxml')\n",
    "    \n",
    "    \n",
    "    "
   ]
  },
  {
   "cell_type": "code",
   "execution_count": 2,
   "metadata": {},
   "outputs": [],
   "source": []
  }
 ],
 "metadata": {
  "kernelspec": {
   "display_name": "Python 3",
   "language": "python",
   "name": "python3"
  },
  "language_info": {
   "codemirror_mode": {
    "name": "ipython",
    "version": 3
   },
   "file_extension": ".py",
   "mimetype": "text/x-python",
   "name": "python",
   "nbconvert_exporter": "python",
   "pygments_lexer": "ipython3",
   "version": "3.7.1"
  }
 },
 "nbformat": 4,
 "nbformat_minor": 2
}

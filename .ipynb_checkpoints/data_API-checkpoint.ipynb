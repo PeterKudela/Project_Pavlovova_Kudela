{
 "cells": [
  {
   "cell_type": "markdown",
   "metadata": {},
   "source": [
    "## ??? \n",
    "\n",
    "\n",
    " API přes vytváření url - OK ? \n",
    " \n",
    " stáhne data až po zadání země -up to date, faster\n",
    "\n",
    "class country: \n",
    "\n",
    "atributy: kod, tripadvisor kod, název, \n",
    "\n",
    "metody: přiřazení kodu, přiřazení tripadvisor kodu, vytvoření url pro api pro danou variable zemi, stažení dat"
   ]
  },
  {
   "cell_type": "code",
   "execution_count": 12,
   "metadata": {},
   "outputs": [],
   "source": [
    "import json, requests\n",
    "import pandas as pd\n"
   ]
  },
  {
   "cell_type": "code",
   "execution_count": null,
   "metadata": {},
   "outputs": [],
   "source": [
    "#selecting country\n",
    "\n",
    "countries = {'USA': 'us','Germany':'de'}\n",
    "\n",
    "country = input('Select country:')\n",
    "\n",
    "while country not in countries['key']:\n",
    "    country = input('Error, please select again:')\n",
    "\n"
   ]
  },
  {
   "cell_type": "code",
   "execution_count": 39,
   "metadata": {},
   "outputs": [
    {
     "name": "stdout",
     "output_type": "stream",
     "text": [
      "{\"type\": \"error\", \"msg\": \"Invalid data argument.\"}\n"
     ]
    }
   ],
   "source": [
    "# creating url for API and downloading API\n",
    "url = 'http://inqstatsapi.inqubu.com?api_key=c5b5c1dd6b0f4ea5&countries=' + str(country) + '&data=population&years=1990:2016'\n",
    "\n",
    "data = requests.get(url).json()\n",
    "print(json.dumps(data))\n"
   ]
  },
  {
   "cell_type": "code",
   "execution_count": 25,
   "metadata": {},
   "outputs": [
    {
     "name": "stdout",
     "output_type": "stream",
     "text": [
      "{\"type\": \"error\", \"msg\": \"Invalid data argument.\"}\n"
     ]
    }
   ],
   "source": []
  },
  {
   "cell_type": "code",
   "execution_count": 17,
   "metadata": {},
   "outputs": [
    {
     "name": "stdout",
     "output_type": "stream",
     "text": [
      "[{\"countryCode\": \"us\", \"countryName\": \"USA\", \"population\": [{\"year\": \"1990\", \"data\": \"249623000\"}, {\"year\": \"1989\", \"data\": \"246819000\"}, {\"year\": \"1988\", \"data\": \"244499000\"}, {\"year\": \"1987\", \"data\": \"242289000\"}, {\"year\": \"1986\", \"data\": \"240133000\"}, {\"year\": \"1985\", \"data\": \"237924000\"}, {\"year\": \"1984\", \"data\": \"235825000\"}, {\"year\": \"1983\", \"data\": \"233792000\"}, {\"year\": \"1982\", \"data\": \"231664000\"}, {\"year\": \"1981\", \"data\": \"229466000\"}, {\"year\": \"1980\", \"data\": \"227225000\"}]}]\n"
     ]
    }
   ],
   "source": [
    "print(json.dumps(data))"
   ]
  }
 ],
 "metadata": {
  "kernelspec": {
   "display_name": "Python 3",
   "language": "python",
   "name": "python3"
  },
  "language_info": {
   "codemirror_mode": {
    "name": "ipython",
    "version": 3
   },
   "file_extension": ".py",
   "mimetype": "text/x-python",
   "name": "python",
   "nbconvert_exporter": "python",
   "pygments_lexer": "ipython3",
   "version": "3.7.1"
  }
 },
 "nbformat": 4,
 "nbformat_minor": 2
}
